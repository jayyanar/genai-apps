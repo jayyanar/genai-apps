{
  "cells": [
    {
      "attachments": {},
      "cell_type": "markdown",
      "id": "04815d1b-44ee-4bd3-878e-fa0c3bf9fa7f",
      "metadata": {
        "id": "04815d1b-44ee-4bd3-878e-fa0c3bf9fa7f",
        "tags": []
      },
      "source": [
        "# LangChain QA Panel App\n",
        "\n",
        "This notebook shows how to make this app:"
      ]
    },
    {
      "attachments": {},
      "cell_type": "markdown",
      "id": "f659f0d5",
      "metadata": {},
      "source": [
        "[![Open in SageMaker Studio Lab](https://studiolab.sagemaker.aws/studiolab.svg)](https://studiolab.sagemaker.aws/import/github/jayyanar/genai-apps/blob/main/lab4_LangChain_Cohere_PDF_Study_App.ipynb)"
      ]
    },
    {
      "attachments": {},
      "cell_type": "markdown",
      "id": "356805ec",
      "metadata": {},
      "source": [
        "[![Open In Colab](https://colab.research.google.com/assets/colab-badge.svg)](https://colab.research.google.com/github/jayyanar/genai-apps/)"
      ]
    },
    {
      "cell_type": "code",
      "execution_count": null,
      "id": "a181568b-9cde-4a55-a853-4d2a41dbfdad",
      "metadata": {
        "colab": {
          "base_uri": "https://localhost:8080/"
        },
        "id": "a181568b-9cde-4a55-a853-4d2a41dbfdad",
        "outputId": "59d94a48-1623-4176-b0a5-c82e37984bb0",
        "tags": []
      },
      "outputs": [
        {
          "name": "stdout",
          "output_type": "stream",
          "text": [
            "Requirement already satisfied: langchain in /usr/local/lib/python3.10/dist-packages (0.0.257)\n",
            "Requirement already satisfied: cohere in /usr/local/lib/python3.10/dist-packages (4.19.2)\n",
            "Requirement already satisfied: chromadb in /usr/local/lib/python3.10/dist-packages (0.4.5)\n",
            "Requirement already satisfied: tiktoken in /usr/local/lib/python3.10/dist-packages (0.4.0)\n",
            "Requirement already satisfied: pypdf in /usr/local/lib/python3.10/dist-packages (3.15.0)\n",
            "Requirement already satisfied: panel in /usr/local/lib/python3.10/dist-packages (1.2.1)\n",
            "Collecting transformers\n",
            "  Downloading transformers-4.31.0-py3-none-any.whl (7.4 MB)\n",
            "\u001b[2K     \u001b[90m━━━━━━━━━━━━━━━━━━━━━━━━━━━━━━━━━━━━━━━━\u001b[0m \u001b[32m7.4/7.4 MB\u001b[0m \u001b[31m13.0 MB/s\u001b[0m eta \u001b[36m0:00:00\u001b[0m\n",
            "\u001b[?25hRequirement already satisfied: PyYAML>=5.3 in /usr/local/lib/python3.10/dist-packages (from langchain) (6.0.1)\n",
            "Requirement already satisfied: SQLAlchemy<3,>=1.4 in /usr/local/lib/python3.10/dist-packages (from langchain) (2.0.19)\n",
            "Requirement already satisfied: aiohttp<4.0.0,>=3.8.3 in /usr/local/lib/python3.10/dist-packages (from langchain) (3.8.5)\n",
            "Requirement already satisfied: async-timeout<5.0.0,>=4.0.0 in /usr/local/lib/python3.10/dist-packages (from langchain) (4.0.2)\n",
            "Requirement already satisfied: dataclasses-json<0.6.0,>=0.5.7 in /usr/local/lib/python3.10/dist-packages (from langchain) (0.5.14)\n",
            "Requirement already satisfied: langsmith<0.1.0,>=0.0.11 in /usr/local/lib/python3.10/dist-packages (from langchain) (0.0.19)\n",
            "Requirement already satisfied: numexpr<3.0.0,>=2.8.4 in /usr/local/lib/python3.10/dist-packages (from langchain) (2.8.4)\n",
            "Requirement already satisfied: numpy<2,>=1 in /usr/local/lib/python3.10/dist-packages (from langchain) (1.22.4)\n",
            "Requirement already satisfied: openapi-schema-pydantic<2.0,>=1.2 in /usr/local/lib/python3.10/dist-packages (from langchain) (1.2.4)\n",
            "Requirement already satisfied: pydantic<2,>=1 in /usr/local/lib/python3.10/dist-packages (from langchain) (1.10.12)\n",
            "Requirement already satisfied: requests<3,>=2 in /usr/local/lib/python3.10/dist-packages (from langchain) (2.31.0)\n",
            "Requirement already satisfied: tenacity<9.0.0,>=8.1.0 in /usr/local/lib/python3.10/dist-packages (from langchain) (8.2.2)\n",
            "Requirement already satisfied: backoff<3.0,>=2.0 in /usr/local/lib/python3.10/dist-packages (from cohere) (2.2.1)\n",
            "Requirement already satisfied: fastavro==1.8.2 in /usr/local/lib/python3.10/dist-packages (from cohere) (1.8.2)\n",
            "Requirement already satisfied: importlib_metadata<7.0,>=6.0 in /usr/local/lib/python3.10/dist-packages (from cohere) (6.8.0)\n",
            "Requirement already satisfied: urllib3<3,>=1.26 in /usr/local/lib/python3.10/dist-packages (from cohere) (1.26.16)\n",
            "Requirement already satisfied: chroma-hnswlib==0.7.2 in /usr/local/lib/python3.10/dist-packages (from chromadb) (0.7.2)\n",
            "Requirement already satisfied: fastapi<0.100.0,>=0.95.2 in /usr/local/lib/python3.10/dist-packages (from chromadb) (0.99.1)\n",
            "Requirement already satisfied: uvicorn[standard]>=0.18.3 in /usr/local/lib/python3.10/dist-packages (from chromadb) (0.23.2)\n",
            "Requirement already satisfied: posthog>=2.4.0 in /usr/local/lib/python3.10/dist-packages (from chromadb) (3.0.1)\n",
            "Requirement already satisfied: typing-extensions>=4.5.0 in /usr/local/lib/python3.10/dist-packages (from chromadb) (4.7.1)\n",
            "Requirement already satisfied: pulsar-client>=3.1.0 in /usr/local/lib/python3.10/dist-packages (from chromadb) (3.2.0)\n",
            "Requirement already satisfied: onnxruntime>=1.14.1 in /usr/local/lib/python3.10/dist-packages (from chromadb) (1.15.1)\n",
            "Requirement already satisfied: tokenizers>=0.13.2 in /usr/local/lib/python3.10/dist-packages (from chromadb) (0.13.3)\n",
            "Requirement already satisfied: pypika>=0.48.9 in /usr/local/lib/python3.10/dist-packages (from chromadb) (0.48.9)\n",
            "Requirement already satisfied: tqdm>=4.65.0 in /usr/local/lib/python3.10/dist-packages (from chromadb) (4.65.0)\n",
            "Requirement already satisfied: overrides>=7.3.1 in /usr/local/lib/python3.10/dist-packages (from chromadb) (7.4.0)\n",
            "Requirement already satisfied: importlib-resources in /usr/local/lib/python3.10/dist-packages (from chromadb) (6.0.0)\n",
            "Requirement already satisfied: regex>=2022.1.18 in /usr/local/lib/python3.10/dist-packages (from tiktoken) (2022.10.31)\n",
            "Requirement already satisfied: bokeh<3.3.0,>=3.1.1 in /usr/local/lib/python3.10/dist-packages (from panel) (3.1.1)\n",
            "Requirement already satisfied: param>=1.12.0 in /usr/local/lib/python3.10/dist-packages (from panel) (1.13.0)\n",
            "Requirement already satisfied: pyviz-comms>=0.7.4 in /usr/local/lib/python3.10/dist-packages (from panel) (2.3.2)\n",
            "Requirement already satisfied: xyzservices>=2021.09.1 in /usr/local/lib/python3.10/dist-packages (from panel) (2023.7.0)\n",
            "Requirement already satisfied: markdown in /usr/local/lib/python3.10/dist-packages (from panel) (3.4.4)\n",
            "Requirement already satisfied: markdown-it-py in /usr/local/lib/python3.10/dist-packages (from panel) (3.0.0)\n",
            "Requirement already satisfied: linkify-it-py in /usr/local/lib/python3.10/dist-packages (from panel) (2.0.2)\n",
            "Requirement already satisfied: mdit-py-plugins in /usr/local/lib/python3.10/dist-packages (from panel) (0.4.0)\n",
            "Requirement already satisfied: bleach in /usr/local/lib/python3.10/dist-packages (from panel) (6.0.0)\n",
            "Requirement already satisfied: pandas>=1.2 in /usr/local/lib/python3.10/dist-packages (from panel) (1.5.3)\n",
            "Requirement already satisfied: filelock in /usr/local/lib/python3.10/dist-packages (from transformers) (3.12.2)\n",
            "Collecting huggingface-hub<1.0,>=0.14.1 (from transformers)\n",
            "  Downloading huggingface_hub-0.16.4-py3-none-any.whl (268 kB)\n",
            "\u001b[2K     \u001b[90m━━━━━━━━━━━━━━━━━━━━━━━━━━━━━━━━━━━━━━\u001b[0m \u001b[32m268.8/268.8 kB\u001b[0m \u001b[31m22.0 MB/s\u001b[0m eta \u001b[36m0:00:00\u001b[0m\n",
            "\u001b[?25hRequirement already satisfied: packaging>=20.0 in /usr/local/lib/python3.10/dist-packages (from transformers) (23.1)\n",
            "Collecting safetensors>=0.3.1 (from transformers)\n",
            "  Downloading safetensors-0.3.2-cp310-cp310-manylinux_2_17_x86_64.manylinux2014_x86_64.whl (1.3 MB)\n",
            "\u001b[2K     \u001b[90m━━━━━━━━━━━━━━━━━━━━━━━━━━━━━━━━━━━━━━━━\u001b[0m \u001b[32m1.3/1.3 MB\u001b[0m \u001b[31m25.9 MB/s\u001b[0m eta \u001b[36m0:00:00\u001b[0m\n",
            "\u001b[?25hRequirement already satisfied: attrs>=17.3.0 in /usr/local/lib/python3.10/dist-packages (from aiohttp<4.0.0,>=3.8.3->langchain) (23.1.0)\n",
            "Requirement already satisfied: charset-normalizer<4.0,>=2.0 in /usr/local/lib/python3.10/dist-packages (from aiohttp<4.0.0,>=3.8.3->langchain) (2.0.12)\n",
            "Requirement already satisfied: multidict<7.0,>=4.5 in /usr/local/lib/python3.10/dist-packages (from aiohttp<4.0.0,>=3.8.3->langchain) (6.0.4)\n",
            "Requirement already satisfied: yarl<2.0,>=1.0 in /usr/local/lib/python3.10/dist-packages (from aiohttp<4.0.0,>=3.8.3->langchain) (1.9.2)\n",
            "Requirement already satisfied: frozenlist>=1.1.1 in /usr/local/lib/python3.10/dist-packages (from aiohttp<4.0.0,>=3.8.3->langchain) (1.4.0)\n",
            "Requirement already satisfied: aiosignal>=1.1.2 in /usr/local/lib/python3.10/dist-packages (from aiohttp<4.0.0,>=3.8.3->langchain) (1.3.1)\n",
            "Requirement already satisfied: Jinja2>=2.9 in /usr/local/lib/python3.10/dist-packages (from bokeh<3.3.0,>=3.1.1->panel) (3.1.2)\n",
            "Requirement already satisfied: contourpy>=1 in /usr/local/lib/python3.10/dist-packages (from bokeh<3.3.0,>=3.1.1->panel) (1.1.0)\n",
            "Requirement already satisfied: pillow>=7.1.0 in /usr/local/lib/python3.10/dist-packages (from bokeh<3.3.0,>=3.1.1->panel) (9.4.0)\n",
            "Requirement already satisfied: tornado>=5.1 in /usr/local/lib/python3.10/dist-packages (from bokeh<3.3.0,>=3.1.1->panel) (6.3.1)\n",
            "Requirement already satisfied: marshmallow<4.0.0,>=3.18.0 in /usr/local/lib/python3.10/dist-packages (from dataclasses-json<0.6.0,>=0.5.7->langchain) (3.20.1)\n",
            "Requirement already satisfied: typing-inspect<1,>=0.4.0 in /usr/local/lib/python3.10/dist-packages (from dataclasses-json<0.6.0,>=0.5.7->langchain) (0.9.0)\n",
            "Requirement already satisfied: starlette<0.28.0,>=0.27.0 in /usr/local/lib/python3.10/dist-packages (from fastapi<0.100.0,>=0.95.2->chromadb) (0.27.0)\n",
            "Requirement already satisfied: fsspec in /usr/local/lib/python3.10/dist-packages (from huggingface-hub<1.0,>=0.14.1->transformers) (2023.6.0)\n",
            "Requirement already satisfied: zipp>=0.5 in /usr/local/lib/python3.10/dist-packages (from importlib_metadata<7.0,>=6.0->cohere) (3.16.2)\n",
            "Requirement already satisfied: coloredlogs in /usr/local/lib/python3.10/dist-packages (from onnxruntime>=1.14.1->chromadb) (15.0.1)\n",
            "Requirement already satisfied: flatbuffers in /usr/local/lib/python3.10/dist-packages (from onnxruntime>=1.14.1->chromadb) (23.5.26)\n",
            "Requirement already satisfied: protobuf in /usr/local/lib/python3.10/dist-packages (from onnxruntime>=1.14.1->chromadb) (3.20.3)\n",
            "Requirement already satisfied: sympy in /usr/local/lib/python3.10/dist-packages (from onnxruntime>=1.14.1->chromadb) (1.11.1)\n",
            "Requirement already satisfied: python-dateutil>=2.8.1 in /usr/local/lib/python3.10/dist-packages (from pandas>=1.2->panel) (2.8.2)\n",
            "Requirement already satisfied: pytz>=2020.1 in /usr/local/lib/python3.10/dist-packages (from pandas>=1.2->panel) (2022.7.1)\n",
            "Requirement already satisfied: six>=1.5 in /usr/local/lib/python3.10/dist-packages (from posthog>=2.4.0->chromadb) (1.16.0)\n",
            "Requirement already satisfied: monotonic>=1.5 in /usr/local/lib/python3.10/dist-packages (from posthog>=2.4.0->chromadb) (1.6)\n",
            "Requirement already satisfied: certifi in /usr/local/lib/python3.10/dist-packages (from pulsar-client>=3.1.0->chromadb) (2023.7.22)\n",
            "Requirement already satisfied: idna<4,>=2.5 in /usr/local/lib/python3.10/dist-packages (from requests<3,>=2->langchain) (3.4)\n",
            "Requirement already satisfied: greenlet!=0.4.17 in /usr/local/lib/python3.10/dist-packages (from SQLAlchemy<3,>=1.4->langchain) (2.0.2)\n",
            "Requirement already satisfied: click>=7.0 in /usr/local/lib/python3.10/dist-packages (from uvicorn[standard]>=0.18.3->chromadb) (8.1.6)\n",
            "Requirement already satisfied: h11>=0.8 in /usr/local/lib/python3.10/dist-packages (from uvicorn[standard]>=0.18.3->chromadb) (0.14.0)\n",
            "Requirement already satisfied: httptools>=0.5.0 in /usr/local/lib/python3.10/dist-packages (from uvicorn[standard]>=0.18.3->chromadb) (0.6.0)\n",
            "Requirement already satisfied: python-dotenv>=0.13 in /usr/local/lib/python3.10/dist-packages (from uvicorn[standard]>=0.18.3->chromadb) (1.0.0)\n",
            "Requirement already satisfied: uvloop!=0.15.0,!=0.15.1,>=0.14.0 in /usr/local/lib/python3.10/dist-packages (from uvicorn[standard]>=0.18.3->chromadb) (0.17.0)\n",
            "Requirement already satisfied: watchfiles>=0.13 in /usr/local/lib/python3.10/dist-packages (from uvicorn[standard]>=0.18.3->chromadb) (0.19.0)\n",
            "Requirement already satisfied: websockets>=10.4 in /usr/local/lib/python3.10/dist-packages (from uvicorn[standard]>=0.18.3->chromadb) (11.0.3)\n",
            "Requirement already satisfied: webencodings in /usr/local/lib/python3.10/dist-packages (from bleach->panel) (0.5.1)\n",
            "Requirement already satisfied: uc-micro-py in /usr/local/lib/python3.10/dist-packages (from linkify-it-py->panel) (1.0.2)\n",
            "Requirement already satisfied: mdurl~=0.1 in /usr/local/lib/python3.10/dist-packages (from markdown-it-py->panel) (0.1.2)\n",
            "Requirement already satisfied: MarkupSafe>=2.0 in /usr/local/lib/python3.10/dist-packages (from Jinja2>=2.9->bokeh<3.3.0,>=3.1.1->panel) (2.1.3)\n",
            "Requirement already satisfied: anyio<5,>=3.4.0 in /usr/local/lib/python3.10/dist-packages (from starlette<0.28.0,>=0.27.0->fastapi<0.100.0,>=0.95.2->chromadb) (3.7.1)\n",
            "Requirement already satisfied: mypy-extensions>=0.3.0 in /usr/local/lib/python3.10/dist-packages (from typing-inspect<1,>=0.4.0->dataclasses-json<0.6.0,>=0.5.7->langchain) (1.0.0)\n",
            "Requirement already satisfied: humanfriendly>=9.1 in /usr/local/lib/python3.10/dist-packages (from coloredlogs->onnxruntime>=1.14.1->chromadb) (10.0)\n",
            "Requirement already satisfied: mpmath>=0.19 in /usr/local/lib/python3.10/dist-packages (from sympy->onnxruntime>=1.14.1->chromadb) (1.3.0)\n",
            "Requirement already satisfied: sniffio>=1.1 in /usr/local/lib/python3.10/dist-packages (from anyio<5,>=3.4.0->starlette<0.28.0,>=0.27.0->fastapi<0.100.0,>=0.95.2->chromadb) (1.3.0)\n",
            "Requirement already satisfied: exceptiongroup in /usr/local/lib/python3.10/dist-packages (from anyio<5,>=3.4.0->starlette<0.28.0,>=0.27.0->fastapi<0.100.0,>=0.95.2->chromadb) (1.1.2)\n",
            "Installing collected packages: safetensors, huggingface-hub, transformers\n",
            "Successfully installed huggingface-hub-0.16.4 safetensors-0.3.2 transformers-4.31.0\n"
          ]
        }
      ],
      "source": [
        "pip install langchain cohere chromadb tiktoken pypdf panel transformers\n"
      ]
    },
    {
      "cell_type": "code",
      "execution_count": null,
      "id": "9a464409-d064-4766-a9cb-5119f6c4b8f5",
      "metadata": {
        "id": "9a464409-d064-4766-a9cb-5119f6c4b8f5",
        "tags": []
      },
      "outputs": [],
      "source": [
        "import os\n",
        "from langchain.chains import RetrievalQA\n",
        "from langchain.llms import Cohere\n",
        "from langchain.document_loaders import TextLoader\n",
        "from langchain.document_loaders import PyPDFLoader\n",
        "from langchain.indexes import VectorstoreIndexCreator\n",
        "from langchain.text_splitter import CharacterTextSplitter\n",
        "from langchain.embeddings import CohereEmbeddings\n",
        "from langchain.vectorstores import Chroma\n",
        "import panel as pn\n",
        "import tempfile\n"
      ]
    },
    {
      "cell_type": "code",
      "execution_count": null,
      "id": "b2d07ea5-9ff2-4c96-a8dc-92895d870b73",
      "metadata": {
        "colab": {
          "base_uri": "https://localhost:8080/",
          "height": 17
        },
        "id": "b2d07ea5-9ff2-4c96-a8dc-92895d870b73",
        "outputId": "9c4d7ee9-a743-4713-e353-93e266b4d1ac",
        "tags": []
      },
      "outputs": [
        {
          "data": {
            "application/javascript": "(function(root) {\n  function now() {\n    return new Date();\n  }\n\n  var force = true;\n  var py_version = '3.1.1'.replace('rc', '-rc.').replace('.dev', '-dev.');\n  var is_dev = py_version.indexOf(\"+\") !== -1 || py_version.indexOf(\"-\") !== -1;\n  var reloading = false;\n  var Bokeh = root.Bokeh;\n  var bokeh_loaded = Bokeh != null && (Bokeh.version === py_version || (Bokeh.versions !== undefined && Bokeh.versions.has(py_version)));\n\n  if (typeof (root._bokeh_timeout) === \"undefined\" || force) {\n    root._bokeh_timeout = Date.now() + 5000;\n    root._bokeh_failed_load = false;\n  }\n\n  function run_callbacks() {\n    try {\n      root._bokeh_onload_callbacks.forEach(function(callback) {\n        if (callback != null)\n          callback();\n      });\n    } finally {\n      delete root._bokeh_onload_callbacks;\n    }\n    console.debug(\"Bokeh: all callbacks have finished\");\n  }\n\n  function load_libs(css_urls, js_urls, js_modules, js_exports, callback) {\n    if (css_urls == null) css_urls = [];\n    if (js_urls == null) js_urls = [];\n    if (js_modules == null) js_modules = [];\n    if (js_exports == null) js_exports = {};\n\n    root._bokeh_onload_callbacks.push(callback);\n\n    if (root._bokeh_is_loading > 0) {\n      console.debug(\"Bokeh: BokehJS is being loaded, scheduling callback at\", now());\n      return null;\n    }\n    if (js_urls.length === 0 && js_modules.length === 0 && Object.keys(js_exports).length === 0) {\n      run_callbacks();\n      return null;\n    }\n    if (!reloading) {\n      console.debug(\"Bokeh: BokehJS not loaded, scheduling load and callback at\", now());\n    }\n\n    function on_load() {\n      root._bokeh_is_loading--;\n      if (root._bokeh_is_loading === 0) {\n        console.debug(\"Bokeh: all BokehJS libraries/stylesheets loaded\");\n        run_callbacks()\n      }\n    }\n    window._bokeh_on_load = on_load\n\n    function on_error() {\n      console.error(\"failed to load \" + url);\n    }\n\n    var skip = [];\n    if (window.requirejs) {\n      window.requirejs.config({'packages': {}, 'paths': {'Quill': 'https://cdn.quilljs.com/1.3.6/quill', 'jspanel': 'https://cdn.jsdelivr.net/npm/jspanel4@4.12.0/dist/jspanel', 'jspanel-modal': 'https://cdn.jsdelivr.net/npm/jspanel4@4.12.0/dist/extensions/modal/jspanel.modal', 'jspanel-tooltip': 'https://cdn.jsdelivr.net/npm/jspanel4@4.12.0/dist/extensions/tooltip/jspanel.tooltip', 'jspanel-hint': 'https://cdn.jsdelivr.net/npm/jspanel4@4.12.0/dist/extensions/hint/jspanel.hint', 'jspanel-layout': 'https://cdn.jsdelivr.net/npm/jspanel4@4.12.0/dist/extensions/layout/jspanel.layout', 'jspanel-contextmenu': 'https://cdn.jsdelivr.net/npm/jspanel4@4.12.0/dist/extensions/contextmenu/jspanel.contextmenu', 'jspanel-dock': 'https://cdn.jsdelivr.net/npm/jspanel4@4.12.0/dist/extensions/dock/jspanel.dock', 'gridstack': 'https://cdn.jsdelivr.net/npm/gridstack@7.2.3/dist/gridstack-all', 'notyf': 'https://cdn.jsdelivr.net/npm/notyf@3/notyf.min'}, 'shim': {'jspanel': {'exports': 'jsPanel'}, 'gridstack': {'exports': 'GridStack'}}});\n      require([\"Quill\"], function(Quill) {\n\twindow.Quill = Quill\n\ton_load()\n      })\n      require([\"jspanel\"], function(jsPanel) {\n\twindow.jsPanel = jsPanel\n\ton_load()\n      })\n      require([\"jspanel-modal\"], function() {\n\ton_load()\n      })\n      require([\"jspanel-tooltip\"], function() {\n\ton_load()\n      })\n      require([\"jspanel-hint\"], function() {\n\ton_load()\n      })\n      require([\"jspanel-layout\"], function() {\n\ton_load()\n      })\n      require([\"jspanel-contextmenu\"], function() {\n\ton_load()\n      })\n      require([\"jspanel-dock\"], function() {\n\ton_load()\n      })\n      require([\"gridstack\"], function(GridStack) {\n\twindow.GridStack = GridStack\n\ton_load()\n      })\n      require([\"notyf\"], function() {\n\ton_load()\n      })\n      root._bokeh_is_loading = css_urls.length + 10;\n    } else {\n      root._bokeh_is_loading = css_urls.length + js_urls.length + js_modules.length + Object.keys(js_exports).length;\n    }\n\n    var existing_stylesheets = []\n    var links = document.getElementsByTagName('link')\n    for (var i = 0; i < links.length; i++) {\n      var link = links[i]\n      if (link.href != null) {\n\texisting_stylesheets.push(link.href)\n      }\n    }\n    for (var i = 0; i < css_urls.length; i++) {\n      var url = css_urls[i];\n      if (existing_stylesheets.indexOf(url) !== -1) {\n\ton_load()\n\tcontinue;\n      }\n      const element = document.createElement(\"link\");\n      element.onload = on_load;\n      element.onerror = on_error;\n      element.rel = \"stylesheet\";\n      element.type = \"text/css\";\n      element.href = url;\n      console.debug(\"Bokeh: injecting link tag for BokehJS stylesheet: \", url);\n      document.body.appendChild(element);\n    }    if (((window['Quill'] !== undefined) && (!(window['Quill'] instanceof HTMLElement))) || window.requirejs) {\n      var urls = ['https://cdn.holoviz.org/panel/1.2.1/dist/bundled/quillinput/1.3.6/quill.js'];\n      for (var i = 0; i < urls.length; i++) {\n        skip.push(urls[i])\n      }\n    }    if (((window['jsPanel'] !== undefined) && (!(window['jsPanel'] instanceof HTMLElement))) || window.requirejs) {\n      var urls = ['https://cdn.holoviz.org/panel/1.2.1/dist/bundled/floatpanel/jspanel4@4.12.0/dist/jspanel.js', 'https://cdn.holoviz.org/panel/1.2.1/dist/bundled/floatpanel/jspanel4@4.12.0/dist/extensions/modal/jspanel.modal.js', 'https://cdn.holoviz.org/panel/1.2.1/dist/bundled/floatpanel/jspanel4@4.12.0/dist/extensions/tooltip/jspanel.tooltip.js', 'https://cdn.holoviz.org/panel/1.2.1/dist/bundled/floatpanel/jspanel4@4.12.0/dist/extensions/hint/jspanel.hint.js', 'https://cdn.holoviz.org/panel/1.2.1/dist/bundled/floatpanel/jspanel4@4.12.0/dist/extensions/layout/jspanel.layout.js', 'https://cdn.holoviz.org/panel/1.2.1/dist/bundled/floatpanel/jspanel4@4.12.0/dist/extensions/contextmenu/jspanel.contextmenu.js', 'https://cdn.holoviz.org/panel/1.2.1/dist/bundled/floatpanel/jspanel4@4.12.0/dist/extensions/dock/jspanel.dock.js'];\n      for (var i = 0; i < urls.length; i++) {\n        skip.push(urls[i])\n      }\n    }    if (((window['GridStack'] !== undefined) && (!(window['GridStack'] instanceof HTMLElement))) || window.requirejs) {\n      var urls = ['https://cdn.holoviz.org/panel/1.2.1/dist/bundled/gridstack/gridstack@7.2.3/dist/gridstack-all.js'];\n      for (var i = 0; i < urls.length; i++) {\n        skip.push(urls[i])\n      }\n    }    if (((window['Notyf'] !== undefined) && (!(window['Notyf'] instanceof HTMLElement))) || window.requirejs) {\n      var urls = ['https://cdn.holoviz.org/panel/1.2.1/dist/bundled/notificationarea/notyf@3/notyf.min.js'];\n      for (var i = 0; i < urls.length; i++) {\n        skip.push(urls[i])\n      }\n    }    var existing_scripts = []\n    var scripts = document.getElementsByTagName('script')\n    for (var i = 0; i < scripts.length; i++) {\n      var script = scripts[i]\n      if (script.src != null) {\n\texisting_scripts.push(script.src)\n      }\n    }\n    for (var i = 0; i < js_urls.length; i++) {\n      var url = js_urls[i];\n      if (skip.indexOf(url) !== -1 || existing_scripts.indexOf(url) !== -1) {\n\tif (!window.requirejs) {\n\t  on_load();\n\t}\n\tcontinue;\n      }\n      var element = document.createElement('script');\n      element.onload = on_load;\n      element.onerror = on_error;\n      element.async = false;\n      element.src = url;\n      console.debug(\"Bokeh: injecting script tag for BokehJS library: \", url);\n      document.head.appendChild(element);\n    }\n    for (var i = 0; i < js_modules.length; i++) {\n      var url = js_modules[i];\n      if (skip.indexOf(url) !== -1 || existing_scripts.indexOf(url) !== -1) {\n\tif (!window.requirejs) {\n\t  on_load();\n\t}\n\tcontinue;\n      }\n      var element = document.createElement('script');\n      element.onload = on_load;\n      element.onerror = on_error;\n      element.async = false;\n      element.src = url;\n      element.type = \"module\";\n      console.debug(\"Bokeh: injecting script tag for BokehJS library: \", url);\n      document.head.appendChild(element);\n    }\n    for (const name in js_exports) {\n      var url = js_exports[name];\n      if (skip.indexOf(url) >= 0 || root[name] != null) {\n\tif (!window.requirejs) {\n\t  on_load();\n\t}\n\tcontinue;\n      }\n      var element = document.createElement('script');\n      element.onerror = on_error;\n      element.async = false;\n      element.type = \"module\";\n      console.debug(\"Bokeh: injecting script tag for BokehJS library: \", url);\n      element.textContent = `\n      import ${name} from \"${url}\"\n      window.${name} = ${name}\n      window._bokeh_on_load()\n      `\n      document.head.appendChild(element);\n    }\n    if (!js_urls.length && !js_modules.length) {\n      on_load()\n    }\n  };\n\n  function inject_raw_css(css) {\n    const element = document.createElement(\"style\");\n    element.appendChild(document.createTextNode(css));\n    document.body.appendChild(element);\n  }\n\n  var js_urls = [\"https://cdn.holoviz.org/panel/1.2.1/dist/bundled/quillinput/1.3.6/quill.js\", \"https://cdn.bokeh.org/bokeh/release/bokeh-3.1.1.min.js\", \"https://cdn.bokeh.org/bokeh/release/bokeh-gl-3.1.1.min.js\", \"https://cdn.bokeh.org/bokeh/release/bokeh-widgets-3.1.1.min.js\", \"https://cdn.bokeh.org/bokeh/release/bokeh-tables-3.1.1.min.js\", \"https://cdn.holoviz.org/panel/1.2.1/dist/panel.min.js\"];\n  var js_modules = [];\n  var js_exports = {};\n  var css_urls = [\"https://cdn.holoviz.org/panel/1.2.1/dist/bundled/quillinput/1.3.6/quill.bubble.css\", \"https://cdn.holoviz.org/panel/1.2.1/dist/bundled/quillinput/1.3.6/quill.snow.css\"];\n  var inline_js = [    function(Bokeh) {\n      inject_raw_css(\"/*!\\n * Quill Editor v1.3.6\\n * https://quilljs.com/\\n * Copyright (c) 2014, Jason Chen\\n * Copyright (c) 2013, salesforce.com\\n */\\n.ql-container {\\n  box-sizing: border-box;\\n  font-family: Helvetica, Arial, sans-serif;\\n  font-size: 13px;\\n  height: 100%;\\n  margin: 0px;\\n  position: relative;\\n}\\n.ql-container.ql-disabled .ql-tooltip {\\n  visibility: hidden;\\n}\\n.ql-container.ql-disabled .ql-editor ul[data-checked] > li::before {\\n  pointer-events: none;\\n}\\n.ql-clipboard {\\n  left: -100000px;\\n  height: 1px;\\n  overflow-y: hidden;\\n  position: absolute;\\n  top: 50%;\\n}\\n.ql-clipboard p {\\n  margin: 0;\\n  padding: 0;\\n}\\n.ql-editor {\\n  box-sizing: border-box;\\n  line-height: 1.42;\\n  height: 100%;\\n  outline: none;\\n  overflow-y: auto;\\n  padding: 12px 15px;\\n  tab-size: 4;\\n  -moz-tab-size: 4;\\n  text-align: left;\\n  white-space: pre-wrap;\\n  word-wrap: break-word;\\n}\\n.ql-editor > * {\\n  cursor: text;\\n}\\n.ql-editor p,\\n.ql-editor ol,\\n.ql-editor ul,\\n.ql-editor pre,\\n.ql-editor blockquote,\\n.ql-editor h1,\\n.ql-editor h2,\\n.ql-editor h3,\\n.ql-editor h4,\\n.ql-editor h5,\\n.ql-editor h6 {\\n  margin: 0;\\n  padding: 0;\\n  counter-reset: list-1 list-2 list-3 list-4 list-5 list-6 list-7 list-8 list-9;\\n}\\n.ql-editor ol,\\n.ql-editor ul {\\n  padding-left: 1.5em;\\n}\\n.ql-editor ol > li,\\n.ql-editor ul > li {\\n  list-style-type: none;\\n}\\n.ql-editor ul > li::before {\\n  content: '\\\\2022';\\n}\\n.ql-editor ul[data-checked=true],\\n.ql-editor ul[data-checked=false] {\\n  pointer-events: none;\\n}\\n.ql-editor ul[data-checked=true] > li *,\\n.ql-editor ul[data-checked=false] > li * {\\n  pointer-events: all;\\n}\\n.ql-editor ul[data-checked=true] > li::before,\\n.ql-editor ul[data-checked=false] > li::before {\\n  color: #777;\\n  cursor: pointer;\\n  pointer-events: all;\\n}\\n.ql-editor ul[data-checked=true] > li::before {\\n  content: '\\\\2611';\\n}\\n.ql-editor ul[data-checked=false] > li::before {\\n  content: '\\\\2610';\\n}\\n.ql-editor li::before {\\n  display: inline-block;\\n  white-space: nowrap;\\n  width: 1.2em;\\n}\\n.ql-editor li:not(.ql-direction-rtl)::before {\\n  margin-left: -1.5em;\\n  margin-right: 0.3em;\\n  text-align: right;\\n}\\n.ql-editor li.ql-direction-rtl::before {\\n  margin-left: 0.3em;\\n  margin-right: -1.5em;\\n}\\n.ql-editor ol li:not(.ql-direction-rtl),\\n.ql-editor ul li:not(.ql-direction-rtl) {\\n  padding-left: 1.5em;\\n}\\n.ql-editor ol li.ql-direction-rtl,\\n.ql-editor ul li.ql-direction-rtl {\\n  padding-right: 1.5em;\\n}\\n.ql-editor ol li {\\n  counter-reset: list-1 list-2 list-3 list-4 list-5 list-6 list-7 list-8 list-9;\\n  counter-increment: list-0;\\n}\\n.ql-editor ol li:before {\\n  content: counter(list-0, decimal) '. ';\\n}\\n.ql-editor ol li.ql-indent-1 {\\n  counter-increment: list-1;\\n}\\n.ql-editor ol li.ql-indent-1:before {\\n  content: counter(list-1, lower-alpha) '. ';\\n}\\n.ql-editor ol li.ql-indent-1 {\\n  counter-reset: list-2 list-3 list-4 list-5 list-6 list-7 list-8 list-9;\\n}\\n.ql-editor ol li.ql-indent-2 {\\n  counter-increment: list-2;\\n}\\n.ql-editor ol li.ql-indent-2:before {\\n  content: counter(list-2, lower-roman) '. ';\\n}\\n.ql-editor ol li.ql-indent-2 {\\n  counter-reset: list-3 list-4 list-5 list-6 list-7 list-8 list-9;\\n}\\n.ql-editor ol li.ql-indent-3 {\\n  counter-increment: list-3;\\n}\\n.ql-editor ol li.ql-indent-3:before {\\n  content: counter(list-3, decimal) '. ';\\n}\\n.ql-editor ol li.ql-indent-3 {\\n  counter-reset: list-4 list-5 list-6 list-7 list-8 list-9;\\n}\\n.ql-editor ol li.ql-indent-4 {\\n  counter-increment: list-4;\\n}\\n.ql-editor ol li.ql-indent-4:before {\\n  content: counter(list-4, lower-alpha) '. ';\\n}\\n.ql-editor ol li.ql-indent-4 {\\n  counter-reset: list-5 list-6 list-7 list-8 list-9;\\n}\\n.ql-editor ol li.ql-indent-5 {\\n  counter-increment: list-5;\\n}\\n.ql-editor ol li.ql-indent-5:before {\\n  content: counter(list-5, lower-roman) '. ';\\n}\\n.ql-editor ol li.ql-indent-5 {\\n  counter-reset: list-6 list-7 list-8 list-9;\\n}\\n.ql-editor ol li.ql-indent-6 {\\n  counter-increment: list-6;\\n}\\n.ql-editor ol li.ql-indent-6:before {\\n  content: counter(list-6, decimal) '. ';\\n}\\n.ql-editor ol li.ql-indent-6 {\\n  counter-reset: list-7 list-8 list-9;\\n}\\n.ql-editor ol li.ql-indent-7 {\\n  counter-increment: list-7;\\n}\\n.ql-editor ol li.ql-indent-7:before {\\n  content: counter(list-7, lower-alpha) '. ';\\n}\\n.ql-editor ol li.ql-indent-7 {\\n  counter-reset: list-8 list-9;\\n}\\n.ql-editor ol li.ql-indent-8 {\\n  counter-increment: list-8;\\n}\\n.ql-editor ol li.ql-indent-8:before {\\n  content: counter(list-8, lower-roman) '. ';\\n}\\n.ql-editor ol li.ql-indent-8 {\\n  counter-reset: list-9;\\n}\\n.ql-editor ol li.ql-indent-9 {\\n  counter-increment: list-9;\\n}\\n.ql-editor ol li.ql-indent-9:before {\\n  content: counter(list-9, decimal) '. ';\\n}\\n.ql-editor .ql-indent-1:not(.ql-direction-rtl) {\\n  padding-left: 3em;\\n}\\n.ql-editor li.ql-indent-1:not(.ql-direction-rtl) {\\n  padding-left: 4.5em;\\n}\\n.ql-editor .ql-indent-1.ql-direction-rtl.ql-align-right {\\n  padding-right: 3em;\\n}\\n.ql-editor li.ql-indent-1.ql-direction-rtl.ql-align-right {\\n  padding-right: 4.5em;\\n}\\n.ql-editor .ql-indent-2:not(.ql-direction-rtl) {\\n  padding-left: 6em;\\n}\\n.ql-editor li.ql-indent-2:not(.ql-direction-rtl) {\\n  padding-left: 7.5em;\\n}\\n.ql-editor .ql-indent-2.ql-direction-rtl.ql-align-right {\\n  padding-right: 6em;\\n}\\n.ql-editor li.ql-indent-2.ql-direction-rtl.ql-align-right {\\n  padding-right: 7.5em;\\n}\\n.ql-editor .ql-indent-3:not(.ql-direction-rtl) {\\n  padding-left: 9em;\\n}\\n.ql-editor li.ql-indent-3:not(.ql-direction-rtl) {\\n  padding-left: 10.5em;\\n}\\n.ql-editor .ql-indent-3.ql-direction-rtl.ql-align-right {\\n  padding-right: 9em;\\n}\\n.ql-editor li.ql-indent-3.ql-direction-rtl.ql-align-right {\\n  padding-right: 10.5em;\\n}\\n.ql-editor .ql-indent-4:not(.ql-direction-rtl) {\\n  padding-left: 12em;\\n}\\n.ql-editor li.ql-indent-4:not(.ql-direction-rtl) {\\n  padding-left: 13.5em;\\n}\\n.ql-editor .ql-indent-4.ql-direction-rtl.ql-align-right {\\n  padding-right: 12em;\\n}\\n.ql-editor li.ql-indent-4.ql-direction-rtl.ql-align-right {\\n  padding-right: 13.5em;\\n}\\n.ql-editor .ql-indent-5:not(.ql-direction-rtl) {\\n  padding-left: 15em;\\n}\\n.ql-editor li.ql-indent-5:not(.ql-direction-rtl) {\\n  padding-left: 16.5em;\\n}\\n.ql-editor .ql-indent-5.ql-direction-rtl.ql-align-right {\\n  padding-right: 15em;\\n}\\n.ql-editor li.ql-indent-5.ql-direction-rtl.ql-align-right {\\n  padding-right: 16.5em;\\n}\\n.ql-editor .ql-indent-6:not(.ql-direction-rtl) {\\n  padding-left: 18em;\\n}\\n.ql-editor li.ql-indent-6:not(.ql-direction-rtl) {\\n  padding-left: 19.5em;\\n}\\n.ql-editor .ql-indent-6.ql-direction-rtl.ql-align-right {\\n  padding-right: 18em;\\n}\\n.ql-editor li.ql-indent-6.ql-direction-rtl.ql-align-right {\\n  padding-right: 19.5em;\\n}\\n.ql-editor .ql-indent-7:not(.ql-direction-rtl) {\\n  padding-left: 21em;\\n}\\n.ql-editor li.ql-indent-7:not(.ql-direction-rtl) {\\n  padding-left: 22.5em;\\n}\\n.ql-editor .ql-indent-7.ql-direction-rtl.ql-align-right {\\n  padding-right: 21em;\\n}\\n.ql-editor li.ql-indent-7.ql-direction-rtl.ql-align-right {\\n  padding-right: 22.5em;\\n}\\n.ql-editor .ql-indent-8:not(.ql-direction-rtl) {\\n  padding-left: 24em;\\n}\\n.ql-editor li.ql-indent-8:not(.ql-direction-rtl) {\\n  padding-left: 25.5em;\\n}\\n.ql-editor .ql-indent-8.ql-direction-rtl.ql-align-right {\\n  padding-right: 24em;\\n}\\n.ql-editor li.ql-indent-8.ql-direction-rtl.ql-align-right {\\n  padding-right: 25.5em;\\n}\\n.ql-editor .ql-indent-9:not(.ql-direction-rtl) {\\n  padding-left: 27em;\\n}\\n.ql-editor li.ql-indent-9:not(.ql-direction-rtl) {\\n  padding-left: 28.5em;\\n}\\n.ql-editor .ql-indent-9.ql-direction-rtl.ql-align-right {\\n  padding-right: 27em;\\n}\\n.ql-editor li.ql-indent-9.ql-direction-rtl.ql-align-right {\\n  padding-right: 28.5em;\\n}\\n.ql-editor .ql-video {\\n  display: block;\\n  max-width: 100%;\\n}\\n.ql-editor .ql-video.ql-align-center {\\n  margin: 0 auto;\\n}\\n.ql-editor .ql-video.ql-align-right {\\n  margin: 0 0 0 auto;\\n}\\n.ql-editor .ql-bg-black {\\n  background-color: #000;\\n}\\n.ql-editor .ql-bg-red {\\n  background-color: #e60000;\\n}\\n.ql-editor .ql-bg-orange {\\n  background-color: #f90;\\n}\\n.ql-editor .ql-bg-yellow {\\n  background-color: #ff0;\\n}\\n.ql-editor .ql-bg-green {\\n  background-color: #008a00;\\n}\\n.ql-editor .ql-bg-blue {\\n  background-color: #06c;\\n}\\n.ql-editor .ql-bg-purple {\\n  background-color: #93f;\\n}\\n.ql-editor .ql-color-white {\\n  color: #fff;\\n}\\n.ql-editor .ql-color-red {\\n  color: #e60000;\\n}\\n.ql-editor .ql-color-orange {\\n  color: #f90;\\n}\\n.ql-editor .ql-color-yellow {\\n  color: #ff0;\\n}\\n.ql-editor .ql-color-green {\\n  color: #008a00;\\n}\\n.ql-editor .ql-color-blue {\\n  color: #06c;\\n}\\n.ql-editor .ql-color-purple {\\n  color: #93f;\\n}\\n.ql-editor .ql-font-serif {\\n  font-family: Georgia, Times New Roman, serif;\\n}\\n.ql-editor .ql-font-monospace {\\n  font-family: Monaco, Courier New, monospace;\\n}\\n.ql-editor .ql-size-small {\\n  font-size: 0.75em;\\n}\\n.ql-editor .ql-size-large {\\n  font-size: 1.5em;\\n}\\n.ql-editor .ql-size-huge {\\n  font-size: 2.5em;\\n}\\n.ql-editor .ql-direction-rtl {\\n  direction: rtl;\\n  text-align: inherit;\\n}\\n.ql-editor .ql-align-center {\\n  text-align: center;\\n}\\n.ql-editor .ql-align-justify {\\n  text-align: justify;\\n}\\n.ql-editor .ql-align-right {\\n  text-align: right;\\n}\\n.ql-editor.ql-blank::before {\\n  color: rgba(0,0,0,0.6);\\n  content: attr(data-placeholder);\\n  font-style: italic;\\n  left: 15px;\\n  pointer-events: none;\\n  position: absolute;\\n  right: 15px;\\n}\\n.ql-bubble.ql-toolbar:after,\\n.ql-bubble .ql-toolbar:after {\\n  clear: both;\\n  content: '';\\n  display: table;\\n}\\n.ql-bubble.ql-toolbar button,\\n.ql-bubble .ql-toolbar button {\\n  background: none;\\n  border: none;\\n  cursor: pointer;\\n  display: inline-block;\\n  float: left;\\n  height: 24px;\\n  padding: 3px 5px;\\n  width: 28px;\\n}\\n.ql-bubble.ql-toolbar button svg,\\n.ql-bubble .ql-toolbar button svg {\\n  float: left;\\n  height: 100%;\\n}\\n.ql-bubble.ql-toolbar button:active:hover,\\n.ql-bubble .ql-toolbar button:active:hover {\\n  outline: none;\\n}\\n.ql-bubble.ql-toolbar input.ql-image[type=file],\\n.ql-bubble .ql-toolbar input.ql-image[type=file] {\\n  display: none;\\n}\\n.ql-bubble.ql-toolbar button:hover,\\n.ql-bubble .ql-toolbar button:hover,\\n.ql-bubble.ql-toolbar button:focus,\\n.ql-bubble .ql-toolbar button:focus,\\n.ql-bubble.ql-toolbar button.ql-active,\\n.ql-bubble .ql-toolbar button.ql-active,\\n.ql-bubble.ql-toolbar .ql-picker-label:hover,\\n.ql-bubble .ql-toolbar .ql-picker-label:hover,\\n.ql-bubble.ql-toolbar .ql-picker-label.ql-active,\\n.ql-bubble .ql-toolbar .ql-picker-label.ql-active,\\n.ql-bubble.ql-toolbar .ql-picker-item:hover,\\n.ql-bubble .ql-toolbar .ql-picker-item:hover,\\n.ql-bubble.ql-toolbar .ql-picker-item.ql-selected,\\n.ql-bubble .ql-toolbar .ql-picker-item.ql-selected {\\n  color: #fff;\\n}\\n.ql-bubble.ql-toolbar button:hover .ql-fill,\\n.ql-bubble .ql-toolbar button:hover .ql-fill,\\n.ql-bubble.ql-toolbar button:focus .ql-fill,\\n.ql-bubble .ql-toolbar button:focus .ql-fill,\\n.ql-bubble.ql-toolbar button.ql-active .ql-fill,\\n.ql-bubble .ql-toolbar button.ql-active .ql-fill,\\n.ql-bubble.ql-toolbar .ql-picker-label:hover .ql-fill,\\n.ql-bubble .ql-toolbar .ql-picker-label:hover .ql-fill,\\n.ql-bubble.ql-toolbar .ql-picker-label.ql-active .ql-fill,\\n.ql-bubble .ql-toolbar .ql-picker-label.ql-active .ql-fill,\\n.ql-bubble.ql-toolbar .ql-picker-item:hover .ql-fill,\\n.ql-bubble .ql-toolbar .ql-picker-item:hover .ql-fill,\\n.ql-bubble.ql-toolbar .ql-picker-item.ql-selected .ql-fill,\\n.ql-bubble .ql-toolbar .ql-picker-item.ql-selected .ql-fill,\\n.ql-bubble.ql-toolbar button:hover .ql-stroke.ql-fill,\\n.ql-bubble .ql-toolbar button:hover .ql-stroke.ql-fill,\\n.ql-bubble.ql-toolbar button:focus .ql-stroke.ql-fill,\\n.ql-bubble .ql-toolbar button:focus .ql-stroke.ql-fill,\\n.ql-bubble.ql-toolbar button.ql-active .ql-stroke.ql-fill,\\n.ql-bubble .ql-toolbar button.ql-active .ql-stroke.ql-fill,\\n.ql-bubble.ql-toolbar .ql-picker-label:hover .ql-stroke.ql-fill,\\n.ql-bubble .ql-toolbar .ql-picker-label:hover .ql-stroke.ql-fill,\\n.ql-bubble.ql-toolbar .ql-picker-label.ql-active .ql-stroke.ql-fill,\\n.ql-bubble .ql-toolbar .ql-picker-label.ql-active .ql-stroke.ql-fill,\\n.ql-bubble.ql-toolbar .ql-picker-item:hover .ql-stroke.ql-fill,\\n.ql-bubble .ql-toolbar .ql-picker-item:hover .ql-stroke.ql-fill,\\n.ql-bubble.ql-toolbar .ql-picker-item.ql-selected .ql-stroke.ql-fill,\\n.ql-bubble .ql-toolbar .ql-picker-item.ql-selected .ql-stroke.ql-fill {\\n  fill: #fff;\\n}\\n.ql-bubble.ql-toolbar button:hover .ql-stroke,\\n.ql-bubble .ql-toolbar button:hover .ql-stroke,\\n.ql-bubble.ql-toolbar button:focus .ql-stroke,\\n.ql-bubble .ql-toolbar button:focus .ql-stroke,\\n.ql-bubble.ql-toolbar button.ql-active .ql-stroke,\\n.ql-bubble .ql-toolbar button.ql-active .ql-stroke,\\n.ql-bubble.ql-toolbar .ql-picker-label:hover .ql-stroke,\\n.ql-bubble .ql-toolbar .ql-picker-label:hover .ql-stroke,\\n.ql-bubble.ql-toolbar .ql-picker-label.ql-active .ql-stroke,\\n.ql-bubble .ql-toolbar .ql-picker-label.ql-active .ql-stroke,\\n.ql-bubble.ql-toolbar .ql-picker-item:hover .ql-stroke,\\n.ql-bubble .ql-toolbar .ql-picker-item:hover .ql-stroke,\\n.ql-bubble.ql-toolbar .ql-picker-item.ql-selected .ql-stroke,\\n.ql-bubble .ql-toolbar .ql-picker-item.ql-selected .ql-stroke,\\n.ql-bubble.ql-toolbar button:hover .ql-stroke-miter,\\n.ql-bubble .ql-toolbar button:hover .ql-stroke-miter,\\n.ql-bubble.ql-toolbar button:focus .ql-stroke-miter,\\n.ql-bubble .ql-toolbar button:focus .ql-stroke-miter,\\n.ql-bubble.ql-toolbar button.ql-active .ql-stroke-miter,\\n.ql-bubble .ql-toolbar button.ql-active .ql-stroke-miter,\\n.ql-bubble.ql-toolbar .ql-picker-label:hover .ql-stroke-miter,\\n.ql-bubble .ql-toolbar .ql-picker-label:hover .ql-stroke-miter,\\n.ql-bubble.ql-toolbar .ql-picker-label.ql-active .ql-stroke-miter,\\n.ql-bubble .ql-toolbar .ql-picker-label.ql-active .ql-stroke-miter,\\n.ql-bubble.ql-toolbar .ql-picker-item:hover .ql-stroke-miter,\\n.ql-bubble .ql-toolbar .ql-picker-item:hover .ql-stroke-miter,\\n.ql-bubble.ql-toolbar .ql-picker-item.ql-selected .ql-stroke-miter,\\n.ql-bubble .ql-toolbar .ql-picker-item.ql-selected .ql-stroke-miter {\\n  stroke: #fff;\\n}\\n@media (pointer: coarse) {\\n  .ql-bubble.ql-toolbar button:hover:not(.ql-active),\\n  .ql-bubble .ql-toolbar button:hover:not(.ql-active) {\\n    color: #ccc;\\n  }\\n  .ql-bubble.ql-toolbar button:hover:not(.ql-active) .ql-fill,\\n  .ql-bubble .ql-toolbar button:hover:not(.ql-active) .ql-fill,\\n  .ql-bubble.ql-toolbar button:hover:not(.ql-active) .ql-stroke.ql-fill,\\n  .ql-bubble .ql-toolbar button:hover:not(.ql-active) .ql-stroke.ql-fill {\\n    fill: #ccc;\\n  }\\n  .ql-bubble.ql-toolbar button:hover:not(.ql-active) .ql-stroke,\\n  .ql-bubble .ql-toolbar button:hover:not(.ql-active) .ql-stroke,\\n  .ql-bubble.ql-toolbar button:hover:not(.ql-active) .ql-stroke-miter,\\n  .ql-bubble .ql-toolbar button:hover:not(.ql-active) .ql-stroke-miter {\\n    stroke: #ccc;\\n  }\\n}\\n.ql-bubble {\\n  box-sizing: border-box;\\n}\\n.ql-bubble * {\\n  box-sizing: border-box;\\n}\\n.ql-bubble .ql-hidden {\\n  display: none;\\n}\\n.ql-bubble .ql-out-bottom,\\n.ql-bubble .ql-out-top {\\n  visibility: hidden;\\n}\\n.ql-bubble .ql-tooltip {\\n  position: absolute;\\n  transform: translateY(10px);\\n}\\n.ql-bubble .ql-tooltip a {\\n  cursor: pointer;\\n  text-decoration: none;\\n}\\n.ql-bubble .ql-tooltip.ql-flip {\\n  transform: translateY(-10px);\\n}\\n.ql-bubble .ql-formats {\\n  display: inline-block;\\n  vertical-align: middle;\\n}\\n.ql-bubble .ql-formats:after {\\n  clear: both;\\n  content: '';\\n  display: table;\\n}\\n.ql-bubble .ql-stroke {\\n  fill: none;\\n  stroke: #ccc;\\n  stroke-linecap: round;\\n  stroke-linejoin: round;\\n  stroke-width: 2;\\n}\\n.ql-bubble .ql-stroke-miter {\\n  fill: none;\\n  stroke: #ccc;\\n  stroke-miterlimit: 10;\\n  stroke-width: 2;\\n}\\n.ql-bubble .ql-fill,\\n.ql-bubble .ql-stroke.ql-fill {\\n  fill: #ccc;\\n}\\n.ql-bubble .ql-empty {\\n  fill: none;\\n}\\n.ql-bubble .ql-even {\\n  fill-rule: evenodd;\\n}\\n.ql-bubble .ql-thin,\\n.ql-bubble .ql-stroke.ql-thin {\\n  stroke-width: 1;\\n}\\n.ql-bubble .ql-transparent {\\n  opacity: 0.4;\\n}\\n.ql-bubble .ql-direction svg:last-child {\\n  display: none;\\n}\\n.ql-bubble .ql-direction.ql-active svg:last-child {\\n  display: inline;\\n}\\n.ql-bubble .ql-direction.ql-active svg:first-child {\\n  display: none;\\n}\\n.ql-bubble .ql-editor h1 {\\n  font-size: 2em;\\n}\\n.ql-bubble .ql-editor h2 {\\n  font-size: 1.5em;\\n}\\n.ql-bubble .ql-editor h3 {\\n  font-size: 1.17em;\\n}\\n.ql-bubble .ql-editor h4 {\\n  font-size: 1em;\\n}\\n.ql-bubble .ql-editor h5 {\\n  font-size: 0.83em;\\n}\\n.ql-bubble .ql-editor h6 {\\n  font-size: 0.67em;\\n}\\n.ql-bubble .ql-editor a {\\n  text-decoration: underline;\\n}\\n.ql-bubble .ql-editor blockquote {\\n  border-left: 4px solid #ccc;\\n  margin-bottom: 5px;\\n  margin-top: 5px;\\n  padding-left: 16px;\\n}\\n.ql-bubble .ql-editor code,\\n.ql-bubble .ql-editor pre {\\n  background-color: #f0f0f0;\\n  border-radius: 3px;\\n}\\n.ql-bubble .ql-editor pre {\\n  white-space: pre-wrap;\\n  margin-bottom: 5px;\\n  margin-top: 5px;\\n  padding: 5px 10px;\\n}\\n.ql-bubble .ql-editor code {\\n  font-size: 85%;\\n  padding: 2px 4px;\\n}\\n.ql-bubble .ql-editor pre.ql-syntax {\\n  background-color: #23241f;\\n  color: #f8f8f2;\\n  overflow: visible;\\n}\\n.ql-bubble .ql-editor img {\\n  max-width: 100%;\\n}\\n.ql-bubble .ql-picker {\\n  color: #ccc;\\n  display: inline-block;\\n  float: left;\\n  font-size: 14px;\\n  font-weight: 500;\\n  height: 24px;\\n  position: relative;\\n  vertical-align: middle;\\n}\\n.ql-bubble .ql-picker-label {\\n  cursor: pointer;\\n  display: inline-block;\\n  height: 100%;\\n  padding-left: 8px;\\n  padding-right: 2px;\\n  position: relative;\\n  width: 100%;\\n}\\n.ql-bubble .ql-picker-label::before {\\n  display: inline-block;\\n  line-height: 22px;\\n}\\n.ql-bubble .ql-picker-options {\\n  background-color: #444;\\n  display: none;\\n  min-width: 100%;\\n  padding: 4px 8px;\\n  position: absolute;\\n  white-space: nowrap;\\n}\\n.ql-bubble .ql-picker-options .ql-picker-item {\\n  cursor: pointer;\\n  display: block;\\n  padding-bottom: 5px;\\n  padding-top: 5px;\\n}\\n.ql-bubble .ql-picker.ql-expanded .ql-picker-label {\\n  color: #777;\\n  z-index: 2;\\n}\\n.ql-bubble .ql-picker.ql-expanded .ql-picker-label .ql-fill {\\n  fill: #777;\\n}\\n.ql-bubble .ql-picker.ql-expanded .ql-picker-label .ql-stroke {\\n  stroke: #777;\\n}\\n.ql-bubble .ql-picker.ql-expanded .ql-picker-options {\\n  display: block;\\n  margin-top: -1px;\\n  top: 100%;\\n  z-index: 1;\\n}\\n.ql-bubble .ql-color-picker,\\n.ql-bubble .ql-icon-picker {\\n  width: 28px;\\n}\\n.ql-bubble .ql-color-picker .ql-picker-label,\\n.ql-bubble .ql-icon-picker .ql-picker-label {\\n  padding: 2px 4px;\\n}\\n.ql-bubble .ql-color-picker .ql-picker-label svg,\\n.ql-bubble .ql-icon-picker .ql-picker-label svg {\\n  right: 4px;\\n}\\n.ql-bubble .ql-icon-picker .ql-picker-options {\\n  padding: 4px 0px;\\n}\\n.ql-bubble .ql-icon-picker .ql-picker-item {\\n  height: 24px;\\n  width: 24px;\\n  padding: 2px 4px;\\n}\\n.ql-bubble .ql-color-picker .ql-picker-options {\\n  padding: 3px 5px;\\n  width: 152px;\\n}\\n.ql-bubble .ql-color-picker .ql-picker-item {\\n  border: 1px solid transparent;\\n  float: left;\\n  height: 16px;\\n  margin: 2px;\\n  padding: 0px;\\n  width: 16px;\\n}\\n.ql-bubble .ql-picker:not(.ql-color-picker):not(.ql-icon-picker) svg {\\n  position: absolute;\\n  margin-top: -9px;\\n  right: 0;\\n  top: 50%;\\n  width: 18px;\\n}\\n.ql-bubble .ql-picker.ql-header .ql-picker-label[data-label]:not([data-label=''])::before,\\n.ql-bubble .ql-picker.ql-font .ql-picker-label[data-label]:not([data-label=''])::before,\\n.ql-bubble .ql-picker.ql-size .ql-picker-label[data-label]:not([data-label=''])::before,\\n.ql-bubble .ql-picker.ql-header .ql-picker-item[data-label]:not([data-label=''])::before,\\n.ql-bubble .ql-picker.ql-font .ql-picker-item[data-label]:not([data-label=''])::before,\\n.ql-bubble .ql-picker.ql-size .ql-picker-item[data-label]:not([data-label=''])::before {\\n  content: attr(data-label);\\n}\\n.ql-bubble .ql-picker.ql-header {\\n  width: 98px;\\n}\\n.ql-bubble .ql-picker.ql-header .ql-picker-label::before,\\n.ql-bubble .ql-picker.ql-header .ql-picker-item::before {\\n  content: 'Normal';\\n}\\n.ql-bubble .ql-picker.ql-header .ql-picker-label[data-value=\\\"1\\\"]::before,\\n.ql-bubble .ql-picker.ql-header .ql-picker-item[data-value=\\\"1\\\"]::before {\\n  content: 'Heading 1';\\n}\\n.ql-bubble .ql-picker.ql-header .ql-picker-label[data-value=\\\"2\\\"]::before,\\n.ql-bubble .ql-picker.ql-header .ql-picker-item[data-value=\\\"2\\\"]::before {\\n  content: 'Heading 2';\\n}\\n.ql-bubble .ql-picker.ql-header .ql-picker-label[data-value=\\\"3\\\"]::before,\\n.ql-bubble .ql-picker.ql-header .ql-picker-item[data-value=\\\"3\\\"]::before {\\n  content: 'Heading 3';\\n}\\n.ql-bubble .ql-picker.ql-header .ql-picker-label[data-value=\\\"4\\\"]::before,\\n.ql-bubble .ql-picker.ql-header .ql-picker-item[data-value=\\\"4\\\"]::before {\\n  content: 'Heading 4';\\n}\\n.ql-bubble .ql-picker.ql-header .ql-picker-label[data-value=\\\"5\\\"]::before,\\n.ql-bubble .ql-picker.ql-header .ql-picker-item[data-value=\\\"5\\\"]::before {\\n  content: 'Heading 5';\\n}\\n.ql-bubble .ql-picker.ql-header .ql-picker-label[data-value=\\\"6\\\"]::before,\\n.ql-bubble .ql-picker.ql-header .ql-picker-item[data-value=\\\"6\\\"]::before {\\n  content: 'Heading 6';\\n}\\n.ql-bubble .ql-picker.ql-header .ql-picker-item[data-value=\\\"1\\\"]::before {\\n  font-size: 2em;\\n}\\n.ql-bubble .ql-picker.ql-header .ql-picker-item[data-value=\\\"2\\\"]::before {\\n  font-size: 1.5em;\\n}\\n.ql-bubble .ql-picker.ql-header .ql-picker-item[data-value=\\\"3\\\"]::before {\\n  font-size: 1.17em;\\n}\\n.ql-bubble .ql-picker.ql-header .ql-picker-item[data-value=\\\"4\\\"]::before {\\n  font-size: 1em;\\n}\\n.ql-bubble .ql-picker.ql-header .ql-picker-item[data-value=\\\"5\\\"]::before {\\n  font-size: 0.83em;\\n}\\n.ql-bubble .ql-picker.ql-header .ql-picker-item[data-value=\\\"6\\\"]::before {\\n  font-size: 0.67em;\\n}\\n.ql-bubble .ql-picker.ql-font {\\n  width: 108px;\\n}\\n.ql-bubble .ql-picker.ql-font .ql-picker-label::before,\\n.ql-bubble .ql-picker.ql-font .ql-picker-item::before {\\n  content: 'Sans Serif';\\n}\\n.ql-bubble .ql-picker.ql-font .ql-picker-label[data-value=serif]::before,\\n.ql-bubble .ql-picker.ql-font .ql-picker-item[data-value=serif]::before {\\n  content: 'Serif';\\n}\\n.ql-bubble .ql-picker.ql-font .ql-picker-label[data-value=monospace]::before,\\n.ql-bubble .ql-picker.ql-font .ql-picker-item[data-value=monospace]::before {\\n  content: 'Monospace';\\n}\\n.ql-bubble .ql-picker.ql-font .ql-picker-item[data-value=serif]::before {\\n  font-family: Georgia, Times New Roman, serif;\\n}\\n.ql-bubble .ql-picker.ql-font .ql-picker-item[data-value=monospace]::before {\\n  font-family: Monaco, Courier New, monospace;\\n}\\n.ql-bubble .ql-picker.ql-size {\\n  width: 98px;\\n}\\n.ql-bubble .ql-picker.ql-size .ql-picker-label::before,\\n.ql-bubble .ql-picker.ql-size .ql-picker-item::before {\\n  content: 'Normal';\\n}\\n.ql-bubble .ql-picker.ql-size .ql-picker-label[data-value=small]::before,\\n.ql-bubble .ql-picker.ql-size .ql-picker-item[data-value=small]::before {\\n  content: 'Small';\\n}\\n.ql-bubble .ql-picker.ql-size .ql-picker-label[data-value=large]::before,\\n.ql-bubble .ql-picker.ql-size .ql-picker-item[data-value=large]::before {\\n  content: 'Large';\\n}\\n.ql-bubble .ql-picker.ql-size .ql-picker-label[data-value=huge]::before,\\n.ql-bubble .ql-picker.ql-size .ql-picker-item[data-value=huge]::before {\\n  content: 'Huge';\\n}\\n.ql-bubble .ql-picker.ql-size .ql-picker-item[data-value=small]::before {\\n  font-size: 10px;\\n}\\n.ql-bubble .ql-picker.ql-size .ql-picker-item[data-value=large]::before {\\n  font-size: 18px;\\n}\\n.ql-bubble .ql-picker.ql-size .ql-picker-item[data-value=huge]::before {\\n  font-size: 32px;\\n}\\n.ql-bubble .ql-color-picker.ql-background .ql-picker-item {\\n  background-color: #fff;\\n}\\n.ql-bubble .ql-color-picker.ql-color .ql-picker-item {\\n  background-color: #000;\\n}\\n.ql-bubble .ql-toolbar .ql-formats {\\n  margin: 8px 12px 8px 0px;\\n}\\n.ql-bubble .ql-toolbar .ql-formats:first-child {\\n  margin-left: 12px;\\n}\\n.ql-bubble .ql-color-picker svg {\\n  margin: 1px;\\n}\\n.ql-bubble .ql-color-picker .ql-picker-item.ql-selected,\\n.ql-bubble .ql-color-picker .ql-picker-item:hover {\\n  border-color: #fff;\\n}\\n.ql-bubble .ql-tooltip {\\n  background-color: #444;\\n  border-radius: 25px;\\n  color: #fff;\\n}\\n.ql-bubble .ql-tooltip-arrow {\\n  border-left: 6px solid transparent;\\n  border-right: 6px solid transparent;\\n  content: \\\" \\\";\\n  display: block;\\n  left: 50%;\\n  margin-left: -6px;\\n  position: absolute;\\n}\\n.ql-bubble .ql-tooltip:not(.ql-flip) .ql-tooltip-arrow {\\n  border-bottom: 6px solid #444;\\n  top: -6px;\\n}\\n.ql-bubble .ql-tooltip.ql-flip .ql-tooltip-arrow {\\n  border-top: 6px solid #444;\\n  bottom: -6px;\\n}\\n.ql-bubble .ql-tooltip.ql-editing .ql-tooltip-editor {\\n  display: block;\\n}\\n.ql-bubble .ql-tooltip.ql-editing .ql-formats {\\n  visibility: hidden;\\n}\\n.ql-bubble .ql-tooltip-editor {\\n  display: none;\\n}\\n.ql-bubble .ql-tooltip-editor input[type=text] {\\n  background: transparent;\\n  border: none;\\n  color: #fff;\\n  font-size: 13px;\\n  height: 100%;\\n  outline: none;\\n  padding: 10px 20px;\\n  position: absolute;\\n  width: 100%;\\n}\\n.ql-bubble .ql-tooltip-editor a {\\n  top: 10px;\\n  position: absolute;\\n  right: 20px;\\n}\\n.ql-bubble .ql-tooltip-editor a:before {\\n  color: #ccc;\\n  content: \\\"\\\\D7\\\";\\n  font-size: 16px;\\n  font-weight: bold;\\n}\\n.ql-container.ql-bubble:not(.ql-disabled) a {\\n  position: relative;\\n  white-space: nowrap;\\n}\\n.ql-container.ql-bubble:not(.ql-disabled) a::before {\\n  background-color: #444;\\n  border-radius: 15px;\\n  top: -5px;\\n  font-size: 12px;\\n  color: #fff;\\n  content: attr(href);\\n  font-weight: normal;\\n  overflow: hidden;\\n  padding: 5px 15px;\\n  text-decoration: none;\\n  z-index: 1;\\n}\\n.ql-container.ql-bubble:not(.ql-disabled) a::after {\\n  border-top: 6px solid #444;\\n  border-left: 6px solid transparent;\\n  border-right: 6px solid transparent;\\n  top: 0;\\n  content: \\\" \\\";\\n  height: 0;\\n  width: 0;\\n}\\n.ql-container.ql-bubble:not(.ql-disabled) a::before,\\n.ql-container.ql-bubble:not(.ql-disabled) a::after {\\n  left: 0;\\n  margin-left: 50%;\\n  position: absolute;\\n  transform: translate(-50%, -100%);\\n  transition: visibility 0s ease 200ms;\\n  visibility: hidden;\\n}\\n.ql-container.ql-bubble:not(.ql-disabled) a:hover::before,\\n.ql-container.ql-bubble:not(.ql-disabled) a:hover::after {\\n  visibility: visible;\\n}\\n\");\n    },    function(Bokeh) {\n      inject_raw_css(\"/*!\\n * Quill Editor v1.3.6\\n * https://quilljs.com/\\n * Copyright (c) 2014, Jason Chen\\n * Copyright (c) 2013, salesforce.com\\n */\\n.ql-container {\\n  box-sizing: border-box;\\n  font-family: Helvetica, Arial, sans-serif;\\n  font-size: 13px;\\n  height: 100%;\\n  margin: 0px;\\n  position: relative;\\n}\\n.ql-container.ql-disabled .ql-tooltip {\\n  visibility: hidden;\\n}\\n.ql-container.ql-disabled .ql-editor ul[data-checked] > li::before {\\n  pointer-events: none;\\n}\\n.ql-clipboard {\\n  left: -100000px;\\n  height: 1px;\\n  overflow-y: hidden;\\n  position: absolute;\\n  top: 50%;\\n}\\n.ql-clipboard p {\\n  margin: 0;\\n  padding: 0;\\n}\\n.ql-editor {\\n  box-sizing: border-box;\\n  line-height: 1.42;\\n  height: 100%;\\n  outline: none;\\n  overflow-y: auto;\\n  padding: 12px 15px;\\n  tab-size: 4;\\n  -moz-tab-size: 4;\\n  text-align: left;\\n  white-space: pre-wrap;\\n  word-wrap: break-word;\\n}\\n.ql-editor > * {\\n  cursor: text;\\n}\\n.ql-editor p,\\n.ql-editor ol,\\n.ql-editor ul,\\n.ql-editor pre,\\n.ql-editor blockquote,\\n.ql-editor h1,\\n.ql-editor h2,\\n.ql-editor h3,\\n.ql-editor h4,\\n.ql-editor h5,\\n.ql-editor h6 {\\n  margin: 0;\\n  padding: 0;\\n  counter-reset: list-1 list-2 list-3 list-4 list-5 list-6 list-7 list-8 list-9;\\n}\\n.ql-editor ol,\\n.ql-editor ul {\\n  padding-left: 1.5em;\\n}\\n.ql-editor ol > li,\\n.ql-editor ul > li {\\n  list-style-type: none;\\n}\\n.ql-editor ul > li::before {\\n  content: '\\\\2022';\\n}\\n.ql-editor ul[data-checked=true],\\n.ql-editor ul[data-checked=false] {\\n  pointer-events: none;\\n}\\n.ql-editor ul[data-checked=true] > li *,\\n.ql-editor ul[data-checked=false] > li * {\\n  pointer-events: all;\\n}\\n.ql-editor ul[data-checked=true] > li::before,\\n.ql-editor ul[data-checked=false] > li::before {\\n  color: #777;\\n  cursor: pointer;\\n  pointer-events: all;\\n}\\n.ql-editor ul[data-checked=true] > li::before {\\n  content: '\\\\2611';\\n}\\n.ql-editor ul[data-checked=false] > li::before {\\n  content: '\\\\2610';\\n}\\n.ql-editor li::before {\\n  display: inline-block;\\n  white-space: nowrap;\\n  width: 1.2em;\\n}\\n.ql-editor li:not(.ql-direction-rtl)::before {\\n  margin-left: -1.5em;\\n  margin-right: 0.3em;\\n  text-align: right;\\n}\\n.ql-editor li.ql-direction-rtl::before {\\n  margin-left: 0.3em;\\n  margin-right: -1.5em;\\n}\\n.ql-editor ol li:not(.ql-direction-rtl),\\n.ql-editor ul li:not(.ql-direction-rtl) {\\n  padding-left: 1.5em;\\n}\\n.ql-editor ol li.ql-direction-rtl,\\n.ql-editor ul li.ql-direction-rtl {\\n  padding-right: 1.5em;\\n}\\n.ql-editor ol li {\\n  counter-reset: list-1 list-2 list-3 list-4 list-5 list-6 list-7 list-8 list-9;\\n  counter-increment: list-0;\\n}\\n.ql-editor ol li:before {\\n  content: counter(list-0, decimal) '. ';\\n}\\n.ql-editor ol li.ql-indent-1 {\\n  counter-increment: list-1;\\n}\\n.ql-editor ol li.ql-indent-1:before {\\n  content: counter(list-1, lower-alpha) '. ';\\n}\\n.ql-editor ol li.ql-indent-1 {\\n  counter-reset: list-2 list-3 list-4 list-5 list-6 list-7 list-8 list-9;\\n}\\n.ql-editor ol li.ql-indent-2 {\\n  counter-increment: list-2;\\n}\\n.ql-editor ol li.ql-indent-2:before {\\n  content: counter(list-2, lower-roman) '. ';\\n}\\n.ql-editor ol li.ql-indent-2 {\\n  counter-reset: list-3 list-4 list-5 list-6 list-7 list-8 list-9;\\n}\\n.ql-editor ol li.ql-indent-3 {\\n  counter-increment: list-3;\\n}\\n.ql-editor ol li.ql-indent-3:before {\\n  content: counter(list-3, decimal) '. ';\\n}\\n.ql-editor ol li.ql-indent-3 {\\n  counter-reset: list-4 list-5 list-6 list-7 list-8 list-9;\\n}\\n.ql-editor ol li.ql-indent-4 {\\n  counter-increment: list-4;\\n}\\n.ql-editor ol li.ql-indent-4:before {\\n  content: counter(list-4, lower-alpha) '. ';\\n}\\n.ql-editor ol li.ql-indent-4 {\\n  counter-reset: list-5 list-6 list-7 list-8 list-9;\\n}\\n.ql-editor ol li.ql-indent-5 {\\n  counter-increment: list-5;\\n}\\n.ql-editor ol li.ql-indent-5:before {\\n  content: counter(list-5, lower-roman) '. ';\\n}\\n.ql-editor ol li.ql-indent-5 {\\n  counter-reset: list-6 list-7 list-8 list-9;\\n}\\n.ql-editor ol li.ql-indent-6 {\\n  counter-increment: list-6;\\n}\\n.ql-editor ol li.ql-indent-6:before {\\n  content: counter(list-6, decimal) '. ';\\n}\\n.ql-editor ol li.ql-indent-6 {\\n  counter-reset: list-7 list-8 list-9;\\n}\\n.ql-editor ol li.ql-indent-7 {\\n  counter-increment: list-7;\\n}\\n.ql-editor ol li.ql-indent-7:before {\\n  content: counter(list-7, lower-alpha) '. ';\\n}\\n.ql-editor ol li.ql-indent-7 {\\n  counter-reset: list-8 list-9;\\n}\\n.ql-editor ol li.ql-indent-8 {\\n  counter-increment: list-8;\\n}\\n.ql-editor ol li.ql-indent-8:before {\\n  content: counter(list-8, lower-roman) '. ';\\n}\\n.ql-editor ol li.ql-indent-8 {\\n  counter-reset: list-9;\\n}\\n.ql-editor ol li.ql-indent-9 {\\n  counter-increment: list-9;\\n}\\n.ql-editor ol li.ql-indent-9:before {\\n  content: counter(list-9, decimal) '. ';\\n}\\n.ql-editor .ql-indent-1:not(.ql-direction-rtl) {\\n  padding-left: 3em;\\n}\\n.ql-editor li.ql-indent-1:not(.ql-direction-rtl) {\\n  padding-left: 4.5em;\\n}\\n.ql-editor .ql-indent-1.ql-direction-rtl.ql-align-right {\\n  padding-right: 3em;\\n}\\n.ql-editor li.ql-indent-1.ql-direction-rtl.ql-align-right {\\n  padding-right: 4.5em;\\n}\\n.ql-editor .ql-indent-2:not(.ql-direction-rtl) {\\n  padding-left: 6em;\\n}\\n.ql-editor li.ql-indent-2:not(.ql-direction-rtl) {\\n  padding-left: 7.5em;\\n}\\n.ql-editor .ql-indent-2.ql-direction-rtl.ql-align-right {\\n  padding-right: 6em;\\n}\\n.ql-editor li.ql-indent-2.ql-direction-rtl.ql-align-right {\\n  padding-right: 7.5em;\\n}\\n.ql-editor .ql-indent-3:not(.ql-direction-rtl) {\\n  padding-left: 9em;\\n}\\n.ql-editor li.ql-indent-3:not(.ql-direction-rtl) {\\n  padding-left: 10.5em;\\n}\\n.ql-editor .ql-indent-3.ql-direction-rtl.ql-align-right {\\n  padding-right: 9em;\\n}\\n.ql-editor li.ql-indent-3.ql-direction-rtl.ql-align-right {\\n  padding-right: 10.5em;\\n}\\n.ql-editor .ql-indent-4:not(.ql-direction-rtl) {\\n  padding-left: 12em;\\n}\\n.ql-editor li.ql-indent-4:not(.ql-direction-rtl) {\\n  padding-left: 13.5em;\\n}\\n.ql-editor .ql-indent-4.ql-direction-rtl.ql-align-right {\\n  padding-right: 12em;\\n}\\n.ql-editor li.ql-indent-4.ql-direction-rtl.ql-align-right {\\n  padding-right: 13.5em;\\n}\\n.ql-editor .ql-indent-5:not(.ql-direction-rtl) {\\n  padding-left: 15em;\\n}\\n.ql-editor li.ql-indent-5:not(.ql-direction-rtl) {\\n  padding-left: 16.5em;\\n}\\n.ql-editor .ql-indent-5.ql-direction-rtl.ql-align-right {\\n  padding-right: 15em;\\n}\\n.ql-editor li.ql-indent-5.ql-direction-rtl.ql-align-right {\\n  padding-right: 16.5em;\\n}\\n.ql-editor .ql-indent-6:not(.ql-direction-rtl) {\\n  padding-left: 18em;\\n}\\n.ql-editor li.ql-indent-6:not(.ql-direction-rtl) {\\n  padding-left: 19.5em;\\n}\\n.ql-editor .ql-indent-6.ql-direction-rtl.ql-align-right {\\n  padding-right: 18em;\\n}\\n.ql-editor li.ql-indent-6.ql-direction-rtl.ql-align-right {\\n  padding-right: 19.5em;\\n}\\n.ql-editor .ql-indent-7:not(.ql-direction-rtl) {\\n  padding-left: 21em;\\n}\\n.ql-editor li.ql-indent-7:not(.ql-direction-rtl) {\\n  padding-left: 22.5em;\\n}\\n.ql-editor .ql-indent-7.ql-direction-rtl.ql-align-right {\\n  padding-right: 21em;\\n}\\n.ql-editor li.ql-indent-7.ql-direction-rtl.ql-align-right {\\n  padding-right: 22.5em;\\n}\\n.ql-editor .ql-indent-8:not(.ql-direction-rtl) {\\n  padding-left: 24em;\\n}\\n.ql-editor li.ql-indent-8:not(.ql-direction-rtl) {\\n  padding-left: 25.5em;\\n}\\n.ql-editor .ql-indent-8.ql-direction-rtl.ql-align-right {\\n  padding-right: 24em;\\n}\\n.ql-editor li.ql-indent-8.ql-direction-rtl.ql-align-right {\\n  padding-right: 25.5em;\\n}\\n.ql-editor .ql-indent-9:not(.ql-direction-rtl) {\\n  padding-left: 27em;\\n}\\n.ql-editor li.ql-indent-9:not(.ql-direction-rtl) {\\n  padding-left: 28.5em;\\n}\\n.ql-editor .ql-indent-9.ql-direction-rtl.ql-align-right {\\n  padding-right: 27em;\\n}\\n.ql-editor li.ql-indent-9.ql-direction-rtl.ql-align-right {\\n  padding-right: 28.5em;\\n}\\n.ql-editor .ql-video {\\n  display: block;\\n  max-width: 100%;\\n}\\n.ql-editor .ql-video.ql-align-center {\\n  margin: 0 auto;\\n}\\n.ql-editor .ql-video.ql-align-right {\\n  margin: 0 0 0 auto;\\n}\\n.ql-editor .ql-bg-black {\\n  background-color: #000;\\n}\\n.ql-editor .ql-bg-red {\\n  background-color: #e60000;\\n}\\n.ql-editor .ql-bg-orange {\\n  background-color: #f90;\\n}\\n.ql-editor .ql-bg-yellow {\\n  background-color: #ff0;\\n}\\n.ql-editor .ql-bg-green {\\n  background-color: #008a00;\\n}\\n.ql-editor .ql-bg-blue {\\n  background-color: #06c;\\n}\\n.ql-editor .ql-bg-purple {\\n  background-color: #93f;\\n}\\n.ql-editor .ql-color-white {\\n  color: #fff;\\n}\\n.ql-editor .ql-color-red {\\n  color: #e60000;\\n}\\n.ql-editor .ql-color-orange {\\n  color: #f90;\\n}\\n.ql-editor .ql-color-yellow {\\n  color: #ff0;\\n}\\n.ql-editor .ql-color-green {\\n  color: #008a00;\\n}\\n.ql-editor .ql-color-blue {\\n  color: #06c;\\n}\\n.ql-editor .ql-color-purple {\\n  color: #93f;\\n}\\n.ql-editor .ql-font-serif {\\n  font-family: Georgia, Times New Roman, serif;\\n}\\n.ql-editor .ql-font-monospace {\\n  font-family: Monaco, Courier New, monospace;\\n}\\n.ql-editor .ql-size-small {\\n  font-size: 0.75em;\\n}\\n.ql-editor .ql-size-large {\\n  font-size: 1.5em;\\n}\\n.ql-editor .ql-size-huge {\\n  font-size: 2.5em;\\n}\\n.ql-editor .ql-direction-rtl {\\n  direction: rtl;\\n  text-align: inherit;\\n}\\n.ql-editor .ql-align-center {\\n  text-align: center;\\n}\\n.ql-editor .ql-align-justify {\\n  text-align: justify;\\n}\\n.ql-editor .ql-align-right {\\n  text-align: right;\\n}\\n.ql-editor.ql-blank::before {\\n  color: rgba(0,0,0,0.6);\\n  content: attr(data-placeholder);\\n  font-style: italic;\\n  left: 15px;\\n  pointer-events: none;\\n  position: absolute;\\n  right: 15px;\\n}\\n.ql-snow.ql-toolbar:after,\\n.ql-snow .ql-toolbar:after {\\n  clear: both;\\n  content: '';\\n  display: table;\\n}\\n.ql-snow.ql-toolbar button,\\n.ql-snow .ql-toolbar button {\\n  background: none;\\n  border: none;\\n  cursor: pointer;\\n  display: inline-block;\\n  float: left;\\n  height: 24px;\\n  padding: 3px 5px;\\n  width: 28px;\\n}\\n.ql-snow.ql-toolbar button svg,\\n.ql-snow .ql-toolbar button svg {\\n  float: left;\\n  height: 100%;\\n}\\n.ql-snow.ql-toolbar button:active:hover,\\n.ql-snow .ql-toolbar button:active:hover {\\n  outline: none;\\n}\\n.ql-snow.ql-toolbar input.ql-image[type=file],\\n.ql-snow .ql-toolbar input.ql-image[type=file] {\\n  display: none;\\n}\\n.ql-snow.ql-toolbar button:hover,\\n.ql-snow .ql-toolbar button:hover,\\n.ql-snow.ql-toolbar button:focus,\\n.ql-snow .ql-toolbar button:focus,\\n.ql-snow.ql-toolbar button.ql-active,\\n.ql-snow .ql-toolbar button.ql-active,\\n.ql-snow.ql-toolbar .ql-picker-label:hover,\\n.ql-snow .ql-toolbar .ql-picker-label:hover,\\n.ql-snow.ql-toolbar .ql-picker-label.ql-active,\\n.ql-snow .ql-toolbar .ql-picker-label.ql-active,\\n.ql-snow.ql-toolbar .ql-picker-item:hover,\\n.ql-snow .ql-toolbar .ql-picker-item:hover,\\n.ql-snow.ql-toolbar .ql-picker-item.ql-selected,\\n.ql-snow .ql-toolbar .ql-picker-item.ql-selected {\\n  color: #06c;\\n}\\n.ql-snow.ql-toolbar button:hover .ql-fill,\\n.ql-snow .ql-toolbar button:hover .ql-fill,\\n.ql-snow.ql-toolbar button:focus .ql-fill,\\n.ql-snow .ql-toolbar button:focus .ql-fill,\\n.ql-snow.ql-toolbar button.ql-active .ql-fill,\\n.ql-snow .ql-toolbar button.ql-active .ql-fill,\\n.ql-snow.ql-toolbar .ql-picker-label:hover .ql-fill,\\n.ql-snow .ql-toolbar .ql-picker-label:hover .ql-fill,\\n.ql-snow.ql-toolbar .ql-picker-label.ql-active .ql-fill,\\n.ql-snow .ql-toolbar .ql-picker-label.ql-active .ql-fill,\\n.ql-snow.ql-toolbar .ql-picker-item:hover .ql-fill,\\n.ql-snow .ql-toolbar .ql-picker-item:hover .ql-fill,\\n.ql-snow.ql-toolbar .ql-picker-item.ql-selected .ql-fill,\\n.ql-snow .ql-toolbar .ql-picker-item.ql-selected .ql-fill,\\n.ql-snow.ql-toolbar button:hover .ql-stroke.ql-fill,\\n.ql-snow .ql-toolbar button:hover .ql-stroke.ql-fill,\\n.ql-snow.ql-toolbar button:focus .ql-stroke.ql-fill,\\n.ql-snow .ql-toolbar button:focus .ql-stroke.ql-fill,\\n.ql-snow.ql-toolbar button.ql-active .ql-stroke.ql-fill,\\n.ql-snow .ql-toolbar button.ql-active .ql-stroke.ql-fill,\\n.ql-snow.ql-toolbar .ql-picker-label:hover .ql-stroke.ql-fill,\\n.ql-snow .ql-toolbar .ql-picker-label:hover .ql-stroke.ql-fill,\\n.ql-snow.ql-toolbar .ql-picker-label.ql-active .ql-stroke.ql-fill,\\n.ql-snow .ql-toolbar .ql-picker-label.ql-active .ql-stroke.ql-fill,\\n.ql-snow.ql-toolbar .ql-picker-item:hover .ql-stroke.ql-fill,\\n.ql-snow .ql-toolbar .ql-picker-item:hover .ql-stroke.ql-fill,\\n.ql-snow.ql-toolbar .ql-picker-item.ql-selected .ql-stroke.ql-fill,\\n.ql-snow .ql-toolbar .ql-picker-item.ql-selected .ql-stroke.ql-fill {\\n  fill: #06c;\\n}\\n.ql-snow.ql-toolbar button:hover .ql-stroke,\\n.ql-snow .ql-toolbar button:hover .ql-stroke,\\n.ql-snow.ql-toolbar button:focus .ql-stroke,\\n.ql-snow .ql-toolbar button:focus .ql-stroke,\\n.ql-snow.ql-toolbar button.ql-active .ql-stroke,\\n.ql-snow .ql-toolbar button.ql-active .ql-stroke,\\n.ql-snow.ql-toolbar .ql-picker-label:hover .ql-stroke,\\n.ql-snow .ql-toolbar .ql-picker-label:hover .ql-stroke,\\n.ql-snow.ql-toolbar .ql-picker-label.ql-active .ql-stroke,\\n.ql-snow .ql-toolbar .ql-picker-label.ql-active .ql-stroke,\\n.ql-snow.ql-toolbar .ql-picker-item:hover .ql-stroke,\\n.ql-snow .ql-toolbar .ql-picker-item:hover .ql-stroke,\\n.ql-snow.ql-toolbar .ql-picker-item.ql-selected .ql-stroke,\\n.ql-snow .ql-toolbar .ql-picker-item.ql-selected .ql-stroke,\\n.ql-snow.ql-toolbar button:hover .ql-stroke-miter,\\n.ql-snow .ql-toolbar button:hover .ql-stroke-miter,\\n.ql-snow.ql-toolbar button:focus .ql-stroke-miter,\\n.ql-snow .ql-toolbar button:focus .ql-stroke-miter,\\n.ql-snow.ql-toolbar button.ql-active .ql-stroke-miter,\\n.ql-snow .ql-toolbar button.ql-active .ql-stroke-miter,\\n.ql-snow.ql-toolbar .ql-picker-label:hover .ql-stroke-miter,\\n.ql-snow .ql-toolbar .ql-picker-label:hover .ql-stroke-miter,\\n.ql-snow.ql-toolbar .ql-picker-label.ql-active .ql-stroke-miter,\\n.ql-snow .ql-toolbar .ql-picker-label.ql-active .ql-stroke-miter,\\n.ql-snow.ql-toolbar .ql-picker-item:hover .ql-stroke-miter,\\n.ql-snow .ql-toolbar .ql-picker-item:hover .ql-stroke-miter,\\n.ql-snow.ql-toolbar .ql-picker-item.ql-selected .ql-stroke-miter,\\n.ql-snow .ql-toolbar .ql-picker-item.ql-selected .ql-stroke-miter {\\n  stroke: #06c;\\n}\\n@media (pointer: coarse) {\\n  .ql-snow.ql-toolbar button:hover:not(.ql-active),\\n  .ql-snow .ql-toolbar button:hover:not(.ql-active) {\\n    color: #444;\\n  }\\n  .ql-snow.ql-toolbar button:hover:not(.ql-active) .ql-fill,\\n  .ql-snow .ql-toolbar button:hover:not(.ql-active) .ql-fill,\\n  .ql-snow.ql-toolbar button:hover:not(.ql-active) .ql-stroke.ql-fill,\\n  .ql-snow .ql-toolbar button:hover:not(.ql-active) .ql-stroke.ql-fill {\\n    fill: #444;\\n  }\\n  .ql-snow.ql-toolbar button:hover:not(.ql-active) .ql-stroke,\\n  .ql-snow .ql-toolbar button:hover:not(.ql-active) .ql-stroke,\\n  .ql-snow.ql-toolbar button:hover:not(.ql-active) .ql-stroke-miter,\\n  .ql-snow .ql-toolbar button:hover:not(.ql-active) .ql-stroke-miter {\\n    stroke: #444;\\n  }\\n}\\n.ql-snow {\\n  box-sizing: border-box;\\n}\\n.ql-snow * {\\n  box-sizing: border-box;\\n}\\n.ql-snow .ql-hidden {\\n  display: none;\\n}\\n.ql-snow .ql-out-bottom,\\n.ql-snow .ql-out-top {\\n  visibility: hidden;\\n}\\n.ql-snow .ql-tooltip {\\n  position: absolute;\\n  transform: translateY(10px);\\n}\\n.ql-snow .ql-tooltip a {\\n  cursor: pointer;\\n  text-decoration: none;\\n}\\n.ql-snow .ql-tooltip.ql-flip {\\n  transform: translateY(-10px);\\n}\\n.ql-snow .ql-formats {\\n  display: inline-block;\\n  vertical-align: middle;\\n}\\n.ql-snow .ql-formats:after {\\n  clear: both;\\n  content: '';\\n  display: table;\\n}\\n.ql-snow .ql-stroke {\\n  fill: none;\\n  stroke: #444;\\n  stroke-linecap: round;\\n  stroke-linejoin: round;\\n  stroke-width: 2;\\n}\\n.ql-snow .ql-stroke-miter {\\n  fill: none;\\n  stroke: #444;\\n  stroke-miterlimit: 10;\\n  stroke-width: 2;\\n}\\n.ql-snow .ql-fill,\\n.ql-snow .ql-stroke.ql-fill {\\n  fill: #444;\\n}\\n.ql-snow .ql-empty {\\n  fill: none;\\n}\\n.ql-snow .ql-even {\\n  fill-rule: evenodd;\\n}\\n.ql-snow .ql-thin,\\n.ql-snow .ql-stroke.ql-thin {\\n  stroke-width: 1;\\n}\\n.ql-snow .ql-transparent {\\n  opacity: 0.4;\\n}\\n.ql-snow .ql-direction svg:last-child {\\n  display: none;\\n}\\n.ql-snow .ql-direction.ql-active svg:last-child {\\n  display: inline;\\n}\\n.ql-snow .ql-direction.ql-active svg:first-child {\\n  display: none;\\n}\\n.ql-snow .ql-editor h1 {\\n  font-size: 2em;\\n}\\n.ql-snow .ql-editor h2 {\\n  font-size: 1.5em;\\n}\\n.ql-snow .ql-editor h3 {\\n  font-size: 1.17em;\\n}\\n.ql-snow .ql-editor h4 {\\n  font-size: 1em;\\n}\\n.ql-snow .ql-editor h5 {\\n  font-size: 0.83em;\\n}\\n.ql-snow .ql-editor h6 {\\n  font-size: 0.67em;\\n}\\n.ql-snow .ql-editor a {\\n  text-decoration: underline;\\n}\\n.ql-snow .ql-editor blockquote {\\n  border-left: 4px solid #ccc;\\n  margin-bottom: 5px;\\n  margin-top: 5px;\\n  padding-left: 16px;\\n}\\n.ql-snow .ql-editor code,\\n.ql-snow .ql-editor pre {\\n  background-color: #f0f0f0;\\n  border-radius: 3px;\\n}\\n.ql-snow .ql-editor pre {\\n  white-space: pre-wrap;\\n  margin-bottom: 5px;\\n  margin-top: 5px;\\n  padding: 5px 10px;\\n}\\n.ql-snow .ql-editor code {\\n  font-size: 85%;\\n  padding: 2px 4px;\\n}\\n.ql-snow .ql-editor pre.ql-syntax {\\n  background-color: #23241f;\\n  color: #f8f8f2;\\n  overflow: visible;\\n}\\n.ql-snow .ql-editor img {\\n  max-width: 100%;\\n}\\n.ql-snow .ql-picker {\\n  color: #444;\\n  display: inline-block;\\n  float: left;\\n  font-size: 14px;\\n  font-weight: 500;\\n  height: 24px;\\n  position: relative;\\n  vertical-align: middle;\\n}\\n.ql-snow .ql-picker-label {\\n  cursor: pointer;\\n  display: inline-block;\\n  height: 100%;\\n  padding-left: 8px;\\n  padding-right: 2px;\\n  position: relative;\\n  width: 100%;\\n}\\n.ql-snow .ql-picker-label::before {\\n  display: inline-block;\\n  line-height: 22px;\\n}\\n.ql-snow .ql-picker-options {\\n  background-color: #fff;\\n  display: none;\\n  min-width: 100%;\\n  padding: 4px 8px;\\n  position: absolute;\\n  white-space: nowrap;\\n}\\n.ql-snow .ql-picker-options .ql-picker-item {\\n  cursor: pointer;\\n  display: block;\\n  padding-bottom: 5px;\\n  padding-top: 5px;\\n}\\n.ql-snow .ql-picker.ql-expanded .ql-picker-label {\\n  color: #ccc;\\n  z-index: 2;\\n}\\n.ql-snow .ql-picker.ql-expanded .ql-picker-label .ql-fill {\\n  fill: #ccc;\\n}\\n.ql-snow .ql-picker.ql-expanded .ql-picker-label .ql-stroke {\\n  stroke: #ccc;\\n}\\n.ql-snow .ql-picker.ql-expanded .ql-picker-options {\\n  display: block;\\n  margin-top: -1px;\\n  top: 100%;\\n  z-index: 1;\\n}\\n.ql-snow .ql-color-picker,\\n.ql-snow .ql-icon-picker {\\n  width: 28px;\\n}\\n.ql-snow .ql-color-picker .ql-picker-label,\\n.ql-snow .ql-icon-picker .ql-picker-label {\\n  padding: 2px 4px;\\n}\\n.ql-snow .ql-color-picker .ql-picker-label svg,\\n.ql-snow .ql-icon-picker .ql-picker-label svg {\\n  right: 4px;\\n}\\n.ql-snow .ql-icon-picker .ql-picker-options {\\n  padding: 4px 0px;\\n}\\n.ql-snow .ql-icon-picker .ql-picker-item {\\n  height: 24px;\\n  width: 24px;\\n  padding: 2px 4px;\\n}\\n.ql-snow .ql-color-picker .ql-picker-options {\\n  padding: 3px 5px;\\n  width: 152px;\\n}\\n.ql-snow .ql-color-picker .ql-picker-item {\\n  border: 1px solid transparent;\\n  float: left;\\n  height: 16px;\\n  margin: 2px;\\n  padding: 0px;\\n  width: 16px;\\n}\\n.ql-snow .ql-picker:not(.ql-color-picker):not(.ql-icon-picker) svg {\\n  position: absolute;\\n  margin-top: -9px;\\n  right: 0;\\n  top: 50%;\\n  width: 18px;\\n}\\n.ql-snow .ql-picker.ql-header .ql-picker-label[data-label]:not([data-label=''])::before,\\n.ql-snow .ql-picker.ql-font .ql-picker-label[data-label]:not([data-label=''])::before,\\n.ql-snow .ql-picker.ql-size .ql-picker-label[data-label]:not([data-label=''])::before,\\n.ql-snow .ql-picker.ql-header .ql-picker-item[data-label]:not([data-label=''])::before,\\n.ql-snow .ql-picker.ql-font .ql-picker-item[data-label]:not([data-label=''])::before,\\n.ql-snow .ql-picker.ql-size .ql-picker-item[data-label]:not([data-label=''])::before {\\n  content: attr(data-label);\\n}\\n.ql-snow .ql-picker.ql-header {\\n  width: 98px;\\n}\\n.ql-snow .ql-picker.ql-header .ql-picker-label::before,\\n.ql-snow .ql-picker.ql-header .ql-picker-item::before {\\n  content: 'Normal';\\n}\\n.ql-snow .ql-picker.ql-header .ql-picker-label[data-value=\\\"1\\\"]::before,\\n.ql-snow .ql-picker.ql-header .ql-picker-item[data-value=\\\"1\\\"]::before {\\n  content: 'Heading 1';\\n}\\n.ql-snow .ql-picker.ql-header .ql-picker-label[data-value=\\\"2\\\"]::before,\\n.ql-snow .ql-picker.ql-header .ql-picker-item[data-value=\\\"2\\\"]::before {\\n  content: 'Heading 2';\\n}\\n.ql-snow .ql-picker.ql-header .ql-picker-label[data-value=\\\"3\\\"]::before,\\n.ql-snow .ql-picker.ql-header .ql-picker-item[data-value=\\\"3\\\"]::before {\\n  content: 'Heading 3';\\n}\\n.ql-snow .ql-picker.ql-header .ql-picker-label[data-value=\\\"4\\\"]::before,\\n.ql-snow .ql-picker.ql-header .ql-picker-item[data-value=\\\"4\\\"]::before {\\n  content: 'Heading 4';\\n}\\n.ql-snow .ql-picker.ql-header .ql-picker-label[data-value=\\\"5\\\"]::before,\\n.ql-snow .ql-picker.ql-header .ql-picker-item[data-value=\\\"5\\\"]::before {\\n  content: 'Heading 5';\\n}\\n.ql-snow .ql-picker.ql-header .ql-picker-label[data-value=\\\"6\\\"]::before,\\n.ql-snow .ql-picker.ql-header .ql-picker-item[data-value=\\\"6\\\"]::before {\\n  content: 'Heading 6';\\n}\\n.ql-snow .ql-picker.ql-header .ql-picker-item[data-value=\\\"1\\\"]::before {\\n  font-size: 2em;\\n}\\n.ql-snow .ql-picker.ql-header .ql-picker-item[data-value=\\\"2\\\"]::before {\\n  font-size: 1.5em;\\n}\\n.ql-snow .ql-picker.ql-header .ql-picker-item[data-value=\\\"3\\\"]::before {\\n  font-size: 1.17em;\\n}\\n.ql-snow .ql-picker.ql-header .ql-picker-item[data-value=\\\"4\\\"]::before {\\n  font-size: 1em;\\n}\\n.ql-snow .ql-picker.ql-header .ql-picker-item[data-value=\\\"5\\\"]::before {\\n  font-size: 0.83em;\\n}\\n.ql-snow .ql-picker.ql-header .ql-picker-item[data-value=\\\"6\\\"]::before {\\n  font-size: 0.67em;\\n}\\n.ql-snow .ql-picker.ql-font {\\n  width: 108px;\\n}\\n.ql-snow .ql-picker.ql-font .ql-picker-label::before,\\n.ql-snow .ql-picker.ql-font .ql-picker-item::before {\\n  content: 'Sans Serif';\\n}\\n.ql-snow .ql-picker.ql-font .ql-picker-label[data-value=serif]::before,\\n.ql-snow .ql-picker.ql-font .ql-picker-item[data-value=serif]::before {\\n  content: 'Serif';\\n}\\n.ql-snow .ql-picker.ql-font .ql-picker-label[data-value=monospace]::before,\\n.ql-snow .ql-picker.ql-font .ql-picker-item[data-value=monospace]::before {\\n  content: 'Monospace';\\n}\\n.ql-snow .ql-picker.ql-font .ql-picker-item[data-value=serif]::before {\\n  font-family: Georgia, Times New Roman, serif;\\n}\\n.ql-snow .ql-picker.ql-font .ql-picker-item[data-value=monospace]::before {\\n  font-family: Monaco, Courier New, monospace;\\n}\\n.ql-snow .ql-picker.ql-size {\\n  width: 98px;\\n}\\n.ql-snow .ql-picker.ql-size .ql-picker-label::before,\\n.ql-snow .ql-picker.ql-size .ql-picker-item::before {\\n  content: 'Normal';\\n}\\n.ql-snow .ql-picker.ql-size .ql-picker-label[data-value=small]::before,\\n.ql-snow .ql-picker.ql-size .ql-picker-item[data-value=small]::before {\\n  content: 'Small';\\n}\\n.ql-snow .ql-picker.ql-size .ql-picker-label[data-value=large]::before,\\n.ql-snow .ql-picker.ql-size .ql-picker-item[data-value=large]::before {\\n  content: 'Large';\\n}\\n.ql-snow .ql-picker.ql-size .ql-picker-label[data-value=huge]::before,\\n.ql-snow .ql-picker.ql-size .ql-picker-item[data-value=huge]::before {\\n  content: 'Huge';\\n}\\n.ql-snow .ql-picker.ql-size .ql-picker-item[data-value=small]::before {\\n  font-size: 10px;\\n}\\n.ql-snow .ql-picker.ql-size .ql-picker-item[data-value=large]::before {\\n  font-size: 18px;\\n}\\n.ql-snow .ql-picker.ql-size .ql-picker-item[data-value=huge]::before {\\n  font-size: 32px;\\n}\\n.ql-snow .ql-color-picker.ql-background .ql-picker-item {\\n  background-color: #fff;\\n}\\n.ql-snow .ql-color-picker.ql-color .ql-picker-item {\\n  background-color: #000;\\n}\\n.ql-toolbar.ql-snow {\\n  border: 1px solid #ccc;\\n  box-sizing: border-box;\\n  font-family: 'Helvetica Neue', 'Helvetica', 'Arial', sans-serif;\\n  padding: 8px;\\n}\\n.ql-toolbar.ql-snow .ql-formats {\\n  margin-right: 15px;\\n}\\n.ql-toolbar.ql-snow .ql-picker-label {\\n  border: 1px solid transparent;\\n}\\n.ql-toolbar.ql-snow .ql-picker-options {\\n  border: 1px solid transparent;\\n  box-shadow: rgba(0,0,0,0.2) 0 2px 8px;\\n}\\n.ql-toolbar.ql-snow .ql-picker.ql-expanded .ql-picker-label {\\n  border-color: #ccc;\\n}\\n.ql-toolbar.ql-snow .ql-picker.ql-expanded .ql-picker-options {\\n  border-color: #ccc;\\n}\\n.ql-toolbar.ql-snow .ql-color-picker .ql-picker-item.ql-selected,\\n.ql-toolbar.ql-snow .ql-color-picker .ql-picker-item:hover {\\n  border-color: #000;\\n}\\n.ql-toolbar.ql-snow + .ql-container.ql-snow {\\n  border-top: 0px;\\n}\\n.ql-snow .ql-tooltip {\\n  background-color: #fff;\\n  border: 1px solid #ccc;\\n  box-shadow: 0px 0px 5px #ddd;\\n  color: #444;\\n  padding: 5px 12px;\\n  white-space: nowrap;\\n}\\n.ql-snow .ql-tooltip::before {\\n  content: \\\"Visit URL:\\\";\\n  line-height: 26px;\\n  margin-right: 8px;\\n}\\n.ql-snow .ql-tooltip input[type=text] {\\n  display: none;\\n  border: 1px solid #ccc;\\n  font-size: 13px;\\n  height: 26px;\\n  margin: 0px;\\n  padding: 3px 5px;\\n  width: 170px;\\n}\\n.ql-snow .ql-tooltip a.ql-preview {\\n  display: inline-block;\\n  max-width: 200px;\\n  overflow-x: hidden;\\n  text-overflow: ellipsis;\\n  vertical-align: top;\\n}\\n.ql-snow .ql-tooltip a.ql-action::after {\\n  border-right: 1px solid #ccc;\\n  content: 'Edit';\\n  margin-left: 16px;\\n  padding-right: 8px;\\n}\\n.ql-snow .ql-tooltip a.ql-remove::before {\\n  content: 'Remove';\\n  margin-left: 8px;\\n}\\n.ql-snow .ql-tooltip a {\\n  line-height: 26px;\\n}\\n.ql-snow .ql-tooltip.ql-editing a.ql-preview,\\n.ql-snow .ql-tooltip.ql-editing a.ql-remove {\\n  display: none;\\n}\\n.ql-snow .ql-tooltip.ql-editing input[type=text] {\\n  display: inline-block;\\n}\\n.ql-snow .ql-tooltip.ql-editing a.ql-action::after {\\n  border-right: 0px;\\n  content: 'Save';\\n  padding-right: 0px;\\n}\\n.ql-snow .ql-tooltip[data-mode=link]::before {\\n  content: \\\"Enter link:\\\";\\n}\\n.ql-snow .ql-tooltip[data-mode=formula]::before {\\n  content: \\\"Enter formula:\\\";\\n}\\n.ql-snow .ql-tooltip[data-mode=video]::before {\\n  content: \\\"Enter video:\\\";\\n}\\n.ql-snow a {\\n  color: #06c;\\n}\\n.ql-container.ql-snow {\\n  border: 1px solid #ccc;\\n}\\n\");\n    },    function(Bokeh) {\n      Bokeh.set_log_level(\"info\");\n    },\nfunction(Bokeh) {} // ensure no trailing comma for IE\n  ];\n\n  function run_inline_js() {\n    if ((root.Bokeh !== undefined) || (force === true)) {\n      for (var i = 0; i < inline_js.length; i++) {\n        inline_js[i].call(root, root.Bokeh);\n      }\n      // Cache old bokeh versions\n      if (Bokeh != undefined && !reloading) {\n\tvar NewBokeh = root.Bokeh;\n\tif (Bokeh.versions === undefined) {\n\t  Bokeh.versions = new Map();\n\t}\n\tif (NewBokeh.version !== Bokeh.version) {\n\t  Bokeh.versions.set(NewBokeh.version, NewBokeh)\n\t}\n\troot.Bokeh = Bokeh;\n      }} else if (Date.now() < root._bokeh_timeout) {\n      setTimeout(run_inline_js, 100);\n    } else if (!root._bokeh_failed_load) {\n      console.log(\"Bokeh: BokehJS failed to load within specified timeout.\");\n      root._bokeh_failed_load = true;\n    }\n    root._bokeh_is_initializing = false\n  }\n\n  function load_or_wait() {\n    // Implement a backoff loop that tries to ensure we do not load multiple\n    // versions of Bokeh and its dependencies at the same time.\n    // In recent versions we use the root._bokeh_is_initializing flag\n    // to determine whether there is an ongoing attempt to initialize\n    // bokeh, however for backward compatibility we also try to ensure\n    // that we do not start loading a newer (Panel>=1.0 and Bokeh>3) version\n    // before older versions are fully initialized.\n    if (root._bokeh_is_initializing && Date.now() > root._bokeh_timeout) {\n      root._bokeh_is_initializing = false;\n      root._bokeh_onload_callbacks = undefined;\n      console.log(\"Bokeh: BokehJS was loaded multiple times but one version failed to initialize.\");\n      load_or_wait();\n    } else if (root._bokeh_is_initializing || (typeof root._bokeh_is_initializing === \"undefined\" && root._bokeh_onload_callbacks !== undefined)) {\n      setTimeout(load_or_wait, 100);\n    } else {\n      Bokeh = root.Bokeh;\n      bokeh_loaded = Bokeh != null && (Bokeh.version === py_version || (Bokeh.versions !== undefined && Bokeh.versions.has(py_version)));\n      root._bokeh_is_initializing = true\n      root._bokeh_onload_callbacks = []\n      if (!reloading && (!bokeh_loaded || is_dev)) {\n\troot.Bokeh = undefined;\n      }\n      load_libs(css_urls, js_urls, js_modules, js_exports, function() {\n\tconsole.debug(\"Bokeh: BokehJS plotting callback run at\", now());\n\trun_inline_js();\n      });\n    }\n  }\n  // Give older versions of the autoload script a head-start to ensure\n  // they initialize before we start loading newer version.\n  setTimeout(load_or_wait, 100)\n}(window));",
            "application/vnd.holoviews_load.v0+json": ""
          },
          "metadata": {},
          "output_type": "display_data"
        },
        {
          "data": {
            "application/javascript": "\nif ((window.PyViz === undefined) || (window.PyViz instanceof HTMLElement)) {\n  window.PyViz = {comms: {}, comm_status:{}, kernels:{}, receivers: {}, plot_index: []}\n}\n\n\n    function JupyterCommManager() {\n    }\n\n    JupyterCommManager.prototype.register_target = function(plot_id, comm_id, msg_handler) {\n      if (window.comm_manager || ((window.Jupyter !== undefined) && (Jupyter.notebook.kernel != null))) {\n        var comm_manager = window.comm_manager || Jupyter.notebook.kernel.comm_manager;\n        comm_manager.register_target(comm_id, function(comm) {\n          comm.on_msg(msg_handler);\n        });\n      } else if ((plot_id in window.PyViz.kernels) && (window.PyViz.kernels[plot_id])) {\n        window.PyViz.kernels[plot_id].registerCommTarget(comm_id, function(comm) {\n          comm.onMsg = msg_handler;\n        });\n      } else if (typeof google != 'undefined' && google.colab.kernel != null) {\n        google.colab.kernel.comms.registerTarget(comm_id, (comm) => {\n          var messages = comm.messages[Symbol.asyncIterator]();\n          function processIteratorResult(result) {\n            var message = result.value;\n            console.log(message)\n            var content = {data: message.data, comm_id};\n            var buffers = []\n            for (var buffer of message.buffers || []) {\n              buffers.push(new DataView(buffer))\n            }\n            var metadata = message.metadata || {};\n            var msg = {content, buffers, metadata}\n            msg_handler(msg);\n            return messages.next().then(processIteratorResult);\n          }\n          return messages.next().then(processIteratorResult);\n        })\n      }\n    }\n\n    JupyterCommManager.prototype.get_client_comm = function(plot_id, comm_id, msg_handler) {\n      if (comm_id in window.PyViz.comms) {\n        return window.PyViz.comms[comm_id];\n      } else if (window.comm_manager || ((window.Jupyter !== undefined) && (Jupyter.notebook.kernel != null))) {\n        var comm_manager = window.comm_manager || Jupyter.notebook.kernel.comm_manager;\n        var comm = comm_manager.new_comm(comm_id, {}, {}, {}, comm_id);\n        if (msg_handler) {\n          comm.on_msg(msg_handler);\n        }\n      } else if ((plot_id in window.PyViz.kernels) && (window.PyViz.kernels[plot_id])) {\n        var comm = window.PyViz.kernels[plot_id].connectToComm(comm_id);\n        comm.open();\n        if (msg_handler) {\n          comm.onMsg = msg_handler;\n        }\n      } else if (typeof google != 'undefined' && google.colab.kernel != null) {\n        var comm_promise = google.colab.kernel.comms.open(comm_id)\n        comm_promise.then((comm) => {\n          window.PyViz.comms[comm_id] = comm;\n          if (msg_handler) {\n            var messages = comm.messages[Symbol.asyncIterator]();\n            function processIteratorResult(result) {\n              var message = result.value;\n              var content = {data: message.data};\n              var metadata = message.metadata || {comm_id};\n              var msg = {content, metadata}\n              msg_handler(msg);\n              return messages.next().then(processIteratorResult);\n            }\n            return messages.next().then(processIteratorResult);\n          }\n        }) \n        var sendClosure = (data, metadata, buffers, disposeOnDone) => {\n          return comm_promise.then((comm) => {\n            comm.send(data, metadata, buffers, disposeOnDone);\n          });\n        };\n        var comm = {\n          send: sendClosure\n        };\n      }\n      window.PyViz.comms[comm_id] = comm;\n      return comm;\n    }\n    window.PyViz.comm_manager = new JupyterCommManager();\n    \n\n\nvar JS_MIME_TYPE = 'application/javascript';\nvar HTML_MIME_TYPE = 'text/html';\nvar EXEC_MIME_TYPE = 'application/vnd.holoviews_exec.v0+json';\nvar CLASS_NAME = 'output';\n\n/**\n * Render data to the DOM node\n */\nfunction render(props, node) {\n  var div = document.createElement(\"div\");\n  var script = document.createElement(\"script\");\n  node.appendChild(div);\n  node.appendChild(script);\n}\n\n/**\n * Handle when a new output is added\n */\nfunction handle_add_output(event, handle) {\n  var output_area = handle.output_area;\n  var output = handle.output;\n  if ((output.data == undefined) || (!output.data.hasOwnProperty(EXEC_MIME_TYPE))) {\n    return\n  }\n  var id = output.metadata[EXEC_MIME_TYPE][\"id\"];\n  var toinsert = output_area.element.find(\".\" + CLASS_NAME.split(' ')[0]);\n  if (id !== undefined) {\n    var nchildren = toinsert.length;\n    var html_node = toinsert[nchildren-1].children[0];\n    html_node.innerHTML = output.data[HTML_MIME_TYPE];\n    var scripts = [];\n    var nodelist = html_node.querySelectorAll(\"script\");\n    for (var i in nodelist) {\n      if (nodelist.hasOwnProperty(i)) {\n        scripts.push(nodelist[i])\n      }\n    }\n\n    scripts.forEach( function (oldScript) {\n      var newScript = document.createElement(\"script\");\n      var attrs = [];\n      var nodemap = oldScript.attributes;\n      for (var j in nodemap) {\n        if (nodemap.hasOwnProperty(j)) {\n          attrs.push(nodemap[j])\n        }\n      }\n      attrs.forEach(function(attr) { newScript.setAttribute(attr.name, attr.value) });\n      newScript.appendChild(document.createTextNode(oldScript.innerHTML));\n      oldScript.parentNode.replaceChild(newScript, oldScript);\n    });\n    if (JS_MIME_TYPE in output.data) {\n      toinsert[nchildren-1].children[1].textContent = output.data[JS_MIME_TYPE];\n    }\n    output_area._hv_plot_id = id;\n    if ((window.Bokeh !== undefined) && (id in Bokeh.index)) {\n      window.PyViz.plot_index[id] = Bokeh.index[id];\n    } else {\n      window.PyViz.plot_index[id] = null;\n    }\n  } else if (output.metadata[EXEC_MIME_TYPE][\"server_id\"] !== undefined) {\n    var bk_div = document.createElement(\"div\");\n    bk_div.innerHTML = output.data[HTML_MIME_TYPE];\n    var script_attrs = bk_div.children[0].attributes;\n    for (var i = 0; i < script_attrs.length; i++) {\n      toinsert[toinsert.length - 1].childNodes[1].setAttribute(script_attrs[i].name, script_attrs[i].value);\n    }\n    // store reference to server id on output_area\n    output_area._bokeh_server_id = output.metadata[EXEC_MIME_TYPE][\"server_id\"];\n  }\n}\n\n/**\n * Handle when an output is cleared or removed\n */\nfunction handle_clear_output(event, handle) {\n  var id = handle.cell.output_area._hv_plot_id;\n  var server_id = handle.cell.output_area._bokeh_server_id;\n  if (((id === undefined) || !(id in PyViz.plot_index)) && (server_id !== undefined)) { return; }\n  var comm = window.PyViz.comm_manager.get_client_comm(\"hv-extension-comm\", \"hv-extension-comm\", function () {});\n  if (server_id !== null) {\n    comm.send({event_type: 'server_delete', 'id': server_id});\n    return;\n  } else if (comm !== null) {\n    comm.send({event_type: 'delete', 'id': id});\n  }\n  delete PyViz.plot_index[id];\n  if ((window.Bokeh !== undefined) & (id in window.Bokeh.index)) {\n    var doc = window.Bokeh.index[id].model.document\n    doc.clear();\n    const i = window.Bokeh.documents.indexOf(doc);\n    if (i > -1) {\n      window.Bokeh.documents.splice(i, 1);\n    }\n  }\n}\n\n/**\n * Handle kernel restart event\n */\nfunction handle_kernel_cleanup(event, handle) {\n  delete PyViz.comms[\"hv-extension-comm\"];\n  window.PyViz.plot_index = {}\n}\n\n/**\n * Handle update_display_data messages\n */\nfunction handle_update_output(event, handle) {\n  handle_clear_output(event, {cell: {output_area: handle.output_area}})\n  handle_add_output(event, handle)\n}\n\nfunction register_renderer(events, OutputArea) {\n  function append_mime(data, metadata, element) {\n    // create a DOM node to render to\n    var toinsert = this.create_output_subarea(\n    metadata,\n    CLASS_NAME,\n    EXEC_MIME_TYPE\n    );\n    this.keyboard_manager.register_events(toinsert);\n    // Render to node\n    var props = {data: data, metadata: metadata[EXEC_MIME_TYPE]};\n    render(props, toinsert[0]);\n    element.append(toinsert);\n    return toinsert\n  }\n\n  events.on('output_added.OutputArea', handle_add_output);\n  events.on('output_updated.OutputArea', handle_update_output);\n  events.on('clear_output.CodeCell', handle_clear_output);\n  events.on('delete.Cell', handle_clear_output);\n  events.on('kernel_ready.Kernel', handle_kernel_cleanup);\n\n  OutputArea.prototype.register_mime_type(EXEC_MIME_TYPE, append_mime, {\n    safe: true,\n    index: 0\n  });\n}\n\nif (window.Jupyter !== undefined) {\n  try {\n    var events = require('base/js/events');\n    var OutputArea = require('notebook/js/outputarea').OutputArea;\n    if (OutputArea.prototype.mime_types().indexOf(EXEC_MIME_TYPE) == -1) {\n      register_renderer(events, OutputArea);\n    }\n  } catch(err) {\n  }\n}\n",
            "application/vnd.holoviews_load.v0+json": ""
          },
          "metadata": {},
          "output_type": "display_data"
        },
        {
          "data": {
            "text/html": [
              "<style>*[data-root-id],\n",
              "*[data-root-id] > * {\n",
              "  box-sizing: border-box;\n",
              "  font-family: var(--jp-ui-font-family);\n",
              "  font-size: var(--jp-ui-font-size1);\n",
              "  color: var(--vscode-editor-foreground, var(--jp-ui-font-color1));\n",
              "}\n",
              "\n",
              "/* Override VSCode background color */\n",
              ".cell-output-ipywidget-background:has(\n",
              "    > .cell-output-ipywidget-background > .lm-Widget > *[data-root-id]\n",
              "  ),\n",
              ".cell-output-ipywidget-background:has(> .lm-Widget > *[data-root-id]) {\n",
              "  background-color: transparent !important;\n",
              "}\n",
              "</style>"
            ]
          },
          "metadata": {},
          "output_type": "display_data"
        },
        {
          "data": {
            "application/vnd.holoviews_exec.v0+json": "",
            "text/html": [
              "<div id='a704ae89-aa85-46c4-bdfe-0136acfc7b85'>\n",
              "  <div id=\"adfa56d3-ae5a-4315-91ef-5b2ebb077790\" data-root-id=\"a704ae89-aa85-46c4-bdfe-0136acfc7b85\" style=\"display: contents;\"></div>\n",
              "</div>\n",
              "<script type=\"application/javascript\">(function(root) {\n",
              "  var docs_json = {\"4c930956-e650-4704-b726-b8c33eb8eceb\":{\"version\":\"3.1.1\",\"title\":\"Bokeh Application\",\"defs\":[{\"type\":\"model\",\"name\":\"ReactiveHTML1\"},{\"type\":\"model\",\"name\":\"FlexBox1\",\"properties\":[{\"name\":\"align_content\",\"kind\":\"Any\",\"default\":\"flex-start\"},{\"name\":\"align_items\",\"kind\":\"Any\",\"default\":\"flex-start\"},{\"name\":\"flex_direction\",\"kind\":\"Any\",\"default\":\"row\"},{\"name\":\"flex_wrap\",\"kind\":\"Any\",\"default\":\"wrap\"},{\"name\":\"justify_content\",\"kind\":\"Any\",\"default\":\"flex-start\"}]},{\"type\":\"model\",\"name\":\"FloatPanel1\",\"properties\":[{\"name\":\"config\",\"kind\":\"Any\",\"default\":{\"type\":\"map\"}},{\"name\":\"contained\",\"kind\":\"Any\",\"default\":true},{\"name\":\"position\",\"kind\":\"Any\",\"default\":\"right-top\"},{\"name\":\"offsetx\",\"kind\":\"Any\",\"default\":null},{\"name\":\"offsety\",\"kind\":\"Any\",\"default\":null},{\"name\":\"theme\",\"kind\":\"Any\",\"default\":\"primary\"},{\"name\":\"status\",\"kind\":\"Any\",\"default\":\"normalized\"}]},{\"type\":\"model\",\"name\":\"GridStack1\",\"properties\":[{\"name\":\"mode\",\"kind\":\"Any\",\"default\":\"warn\"},{\"name\":\"ncols\",\"kind\":\"Any\",\"default\":null},{\"name\":\"nrows\",\"kind\":\"Any\",\"default\":null},{\"name\":\"allow_resize\",\"kind\":\"Any\",\"default\":true},{\"name\":\"allow_drag\",\"kind\":\"Any\",\"default\":true},{\"name\":\"state\",\"kind\":\"Any\",\"default\":[]}]},{\"type\":\"model\",\"name\":\"drag1\",\"properties\":[{\"name\":\"slider_width\",\"kind\":\"Any\",\"default\":5},{\"name\":\"slider_color\",\"kind\":\"Any\",\"default\":\"black\"},{\"name\":\"value\",\"kind\":\"Any\",\"default\":50}]},{\"type\":\"model\",\"name\":\"click1\",\"properties\":[{\"name\":\"terminal_output\",\"kind\":\"Any\",\"default\":\"\"},{\"name\":\"debug_name\",\"kind\":\"Any\",\"default\":\"\"},{\"name\":\"clears\",\"kind\":\"Any\",\"default\":0}]},{\"type\":\"model\",\"name\":\"FastWrapper1\",\"properties\":[{\"name\":\"object\",\"kind\":\"Any\",\"default\":null},{\"name\":\"style\",\"kind\":\"Any\",\"default\":null}]},{\"type\":\"model\",\"name\":\"NotificationAreaBase1\",\"properties\":[{\"name\":\"js_events\",\"kind\":\"Any\",\"default\":{\"type\":\"map\"}},{\"name\":\"position\",\"kind\":\"Any\",\"default\":\"bottom-right\"},{\"name\":\"_clear\",\"kind\":\"Any\",\"default\":0}]},{\"type\":\"model\",\"name\":\"NotificationArea1\",\"properties\":[{\"name\":\"js_events\",\"kind\":\"Any\",\"default\":{\"type\":\"map\"}},{\"name\":\"notifications\",\"kind\":\"Any\",\"default\":[]},{\"name\":\"position\",\"kind\":\"Any\",\"default\":\"bottom-right\"},{\"name\":\"_clear\",\"kind\":\"Any\",\"default\":0},{\"name\":\"types\",\"kind\":\"Any\",\"default\":[{\"type\":\"map\",\"entries\":[[\"type\",\"warning\"],[\"background\",\"#ffc107\"],[\"icon\",{\"type\":\"map\",\"entries\":[[\"className\",\"fas fa-exclamation-triangle\"],[\"tagName\",\"i\"],[\"color\",\"white\"]]}]]},{\"type\":\"map\",\"entries\":[[\"type\",\"info\"],[\"background\",\"#007bff\"],[\"icon\",{\"type\":\"map\",\"entries\":[[\"className\",\"fas fa-info-circle\"],[\"tagName\",\"i\"],[\"color\",\"white\"]]}]]}]}]},{\"type\":\"model\",\"name\":\"Notification\",\"properties\":[{\"name\":\"background\",\"kind\":\"Any\",\"default\":null},{\"name\":\"duration\",\"kind\":\"Any\",\"default\":3000},{\"name\":\"icon\",\"kind\":\"Any\",\"default\":null},{\"name\":\"message\",\"kind\":\"Any\",\"default\":\"\"},{\"name\":\"notification_type\",\"kind\":\"Any\",\"default\":null},{\"name\":\"_destroyed\",\"kind\":\"Any\",\"default\":false}]},{\"type\":\"model\",\"name\":\"TemplateActions1\",\"properties\":[{\"name\":\"open_modal\",\"kind\":\"Any\",\"default\":0},{\"name\":\"close_modal\",\"kind\":\"Any\",\"default\":0}]},{\"type\":\"model\",\"name\":\"BootstrapTemplateActions1\",\"properties\":[{\"name\":\"open_modal\",\"kind\":\"Any\",\"default\":0},{\"name\":\"close_modal\",\"kind\":\"Any\",\"default\":0}]},{\"type\":\"model\",\"name\":\"MaterialTemplateActions1\",\"properties\":[{\"name\":\"open_modal\",\"kind\":\"Any\",\"default\":0},{\"name\":\"close_modal\",\"kind\":\"Any\",\"default\":0}]}],\"roots\":[{\"type\":\"object\",\"name\":\"panel.models.browser.BrowserInfo\",\"id\":\"a704ae89-aa85-46c4-bdfe-0136acfc7b85\"},{\"type\":\"object\",\"name\":\"panel.models.comm_manager.CommManager\",\"id\":\"754f5ec5-b422-4103-8ee6-a10d97e6d144\",\"attributes\":{\"plot_id\":\"a704ae89-aa85-46c4-bdfe-0136acfc7b85\",\"comm_id\":\"46e1a885035746de99abd6012eadfdcd\",\"client_comm_id\":\"fe6e59d21ad44cc39b2975be9addd91c\"}}],\"callbacks\":{\"type\":\"map\"}}};\n",
              "  var render_items = [{\"docid\":\"4c930956-e650-4704-b726-b8c33eb8eceb\",\"roots\":{\"a704ae89-aa85-46c4-bdfe-0136acfc7b85\":\"adfa56d3-ae5a-4315-91ef-5b2ebb077790\"},\"root_ids\":[\"a704ae89-aa85-46c4-bdfe-0136acfc7b85\"]}];\n",
              "  var docs = Object.values(docs_json)\n",
              "  if (!docs) {\n",
              "    return\n",
              "  }\n",
              "  const py_version = docs[0].version.replace('rc', '-rc.').replace('.dev', '-dev.')\n",
              "  const is_dev = py_version.indexOf(\"+\") !== -1 || py_version.indexOf(\"-\") !== -1\n",
              "  function embed_document(root) {\n",
              "    var Bokeh = get_bokeh(root)\n",
              "    Bokeh.embed.embed_items_notebook(docs_json, render_items);\n",
              "    for (const render_item of render_items) {\n",
              "      for (const root_id of render_item.root_ids) {\n",
              "\tconst id_el = document.getElementById(root_id)\n",
              "\tif (id_el.children.length && (id_el.children[0].className === 'bk-root')) {\n",
              "\t  const root_el = id_el.children[0]\n",
              "\t  root_el.id = root_el.id + '-rendered'\n",
              "\t}\n",
              "      }\n",
              "    }\n",
              "  }\n",
              "  function get_bokeh(root) {\n",
              "    if (root.Bokeh === undefined) {\n",
              "      return null\n",
              "    } else if (root.Bokeh.version !== py_version && !is_dev) {\n",
              "      if (root.Bokeh.versions === undefined || !root.Bokeh.versions.has(py_version)) {\n",
              "\treturn null\n",
              "      }\n",
              "      return root.Bokeh.versions.get(py_version);\n",
              "    } else if (root.Bokeh.version === py_version) {\n",
              "      return root.Bokeh\n",
              "    }\n",
              "    return null\n",
              "  }\n",
              "  function is_loaded(root) {\n",
              "    var Bokeh = get_bokeh(root)\n",
              "    return (Bokeh != null && Bokeh.Panel !== undefined)\n",
              "  }\n",
              "  if (is_loaded(root)) {\n",
              "    embed_document(root);\n",
              "  } else {\n",
              "    var attempts = 0;\n",
              "    var timer = setInterval(function(root) {\n",
              "      if (is_loaded(root)) {\n",
              "        clearInterval(timer);\n",
              "        embed_document(root);\n",
              "      } else if (document.readyState == \"complete\") {\n",
              "        attempts++;\n",
              "        if (attempts > 200) {\n",
              "          clearInterval(timer);\n",
              "\t  var Bokeh = get_bokeh(root)\n",
              "\t  if (Bokeh == null || Bokeh.Panel == null) {\n",
              "            console.warn(\"Panel: ERROR: Unable to run Panel code because Bokeh or Panel library is missing\");\n",
              "\t  } else {\n",
              "\t    console.warn(\"Panel: WARNING: Attempting to render but not all required libraries could be resolved.\")\n",
              "\t    embed_document(root)\n",
              "\t  }\n",
              "        }\n",
              "      }\n",
              "    }, 25, root)\n",
              "  }\n",
              "})(window);</script>"
            ]
          },
          "metadata": {
            "application/vnd.holoviews_exec.v0+json": {
              "id": "a704ae89-aa85-46c4-bdfe-0136acfc7b85"
            }
          },
          "output_type": "display_data"
        }
      ],
      "source": [
        "pn.extension('texteditor', template=\"bootstrap\", sizing_mode='stretch_width')\n",
        "pn.state.template.param.update(\n",
        "    main_max_width=\"690px\",\n",
        "    header_background=\"#F08080\",\n",
        ")"
      ]
    },
    {
      "cell_type": "code",
      "execution_count": null,
      "id": "763db4d0-3436-41d3-8b0f-e66ce16468cd",
      "metadata": {
        "id": "763db4d0-3436-41d3-8b0f-e66ce16468cd",
        "tags": []
      },
      "outputs": [],
      "source": [
        "file_input = pn.widgets.FileInput(width=300)\n",
        "\n",
        "coherekey = pn.widgets.PasswordInput(\n",
        "    value=\"\", placeholder=\"Enter your Cohere API Key here...\", width=300\n",
        ")\n",
        "prompt = pn.widgets.TextEditor(\n",
        "    value=\"\", placeholder=\"Enter your questions here...\", height=160, toolbar=False\n",
        ")\n",
        "run_button = pn.widgets.Button(name=\"Run!\")\n",
        "\n",
        "select_k = pn.widgets.IntSlider(\n",
        "    name=\"Number of relevant chunks\", start=1, end=5, step=1, value=2\n",
        ")\n",
        "select_chain_type = pn.widgets.RadioButtonGroup(\n",
        "    name='Chain type',\n",
        "    options=['stuff', 'map_reduce', \"refine\", \"map_rerank\"],\n",
        "    value='map_reduce'\n",
        ")\n",
        "\n",
        "widgets = pn.Row(\n",
        "    pn.Column(prompt, run_button, margin=5),\n",
        "    pn.Card(\n",
        "        \"Chain type:\",\n",
        "        pn.Column(select_chain_type, select_k),\n",
        "        title=\"Advanced settings\"\n",
        "    ), width=670\n",
        ")"
      ]
    },
    {
      "cell_type": "code",
      "execution_count": null,
      "id": "9b83cc06-3401-498f-8f84-8a98370f3121",
      "metadata": {
        "id": "9b83cc06-3401-498f-8f84-8a98370f3121",
        "tags": []
      },
      "outputs": [],
      "source": [
        "def qa(file, query, chain_type, k):\n",
        "    # load document\n",
        "    loader = PyPDFLoader(file)\n",
        "    documents = loader.load()\n",
        "    # split the documents into chunks\n",
        "    text_splitter = CharacterTextSplitter(chunk_size=1000, chunk_overlap=0)\n",
        "    texts = text_splitter.split_documents(documents)\n",
        "    # select which embeddings we want to use\n",
        "    embeddings = CohereEmbeddings()\n",
        "    # create the vectorestore to use as the index\n",
        "    db = Chroma.from_documents(texts, embeddings)\n",
        "    # expose this index in a retriever interface\n",
        "    retriever = db.as_retriever(search_type=\"similarity\", search_kwargs={\"k\": k})\n",
        "    # create a chain to answer questions\n",
        "    qa = RetrievalQA.from_chain_type(\n",
        "        llm=Cohere(), chain_type=chain_type, retriever=retriever, return_source_documents=True)\n",
        "    result = qa({\"query\": query})\n",
        "    print(result['result'])\n",
        "    return result"
      ]
    },
    {
      "cell_type": "code",
      "execution_count": null,
      "id": "2722f43b-daf6-4d17-a842-41203ae9b140",
      "metadata": {
        "id": "2722f43b-daf6-4d17-a842-41203ae9b140",
        "tags": []
      },
      "outputs": [],
      "source": [
        "# os.environ[\"OPENAI_API_KEY\"] = \"\"\n",
        "# result = qa(\"materials/example.pdf\", \"When was GPT-2 created?\", \"map_reduce\", 2)"
      ]
    },
    {
      "cell_type": "code",
      "execution_count": null,
      "id": "60e1b3d3-c0d2-4260-ae0c-26b03f1b8824",
      "metadata": {
        "id": "60e1b3d3-c0d2-4260-ae0c-26b03f1b8824"
      },
      "outputs": [],
      "source": [
        "convos = []  # store all panel objects in a list\n",
        "\n",
        "def qa_result(_):\n",
        "    os.environ[\"COHERE_API_KEY\"] = coherekey.value\n",
        "\n",
        "    # save pdf file to a temp file\n",
        "    if file_input.value is not None:\n",
        "        file_input.save(\"temp.pdf\")\n",
        "\n",
        "        prompt_text = prompt.value\n",
        "        if prompt_text:\n",
        "            result = qa(file=\"temp.pdf\", query=prompt_text, chain_type=select_chain_type.value, k=select_k.value)\n",
        "            convos.extend([\n",
        "                pn.Row(\n",
        "                    pn.panel(\"\\U0001F60A\", width=10),\n",
        "                    prompt_text,\n",
        "                    width=600\n",
        "                ),\n",
        "                pn.Row(\n",
        "                    pn.panel(\"\\U0001F916\", width=10),\n",
        "                    pn.Column(\n",
        "                        result[\"result\"],\n",
        "                        \"Relevant source text:\",\n",
        "                        pn.pane.Markdown('\\n--------------------------------------------------------------------\\n'.join(doc.page_content for doc in result[\"source_documents\"]))\n",
        "                    )\n",
        "                )\n",
        "            ])\n",
        "    return pn.Column(*convos, margin=15, width=575, min_height=400)\n"
      ]
    },
    {
      "cell_type": "code",
      "execution_count": null,
      "id": "c3a70857-0b98-4f62-a9c0-b62ca42b474c",
      "metadata": {
        "id": "c3a70857-0b98-4f62-a9c0-b62ca42b474c",
        "tags": []
      },
      "outputs": [],
      "source": [
        "qa_interactive = pn.panel(\n",
        "    pn.bind(qa_result, run_button),\n",
        "    loading_indicator=True,\n",
        ")"
      ]
    },
    {
      "cell_type": "code",
      "execution_count": null,
      "id": "228e2b42-b1ed-43af-b923-031a70241ab0",
      "metadata": {
        "id": "228e2b42-b1ed-43af-b923-031a70241ab0",
        "tags": []
      },
      "outputs": [],
      "source": [
        "output = pn.WidgetBox('*Output will show up here:*', qa_interactive, width=670, scroll=True)"
      ]
    },
    {
      "cell_type": "code",
      "execution_count": null,
      "id": "1b0ec253-2bcd-4f91-96d8-d8456e900a58",
      "metadata": {
        "id": "1b0ec253-2bcd-4f91-96d8-d8456e900a58",
        "tags": []
      },
      "outputs": [],
      "source": [
        "# layout\n",
        "pn.Column(\n",
        "    pn.pane.Markdown(\"\"\"\n",
        "    ## \\U0001F60A! Question Answering with your PDF file\n",
        "\n",
        "    Step 1: Upload a PDF file \\n\n",
        "    Step 2: Enter your Cohere API key.\\n\n",
        "    Step 3: Type your question at the bottom and click \"Run\" \\n\n",
        "\n",
        "    \"\"\"),\n",
        "    pn.Row(file_input,coherekey),\n",
        "    output,\n",
        "    widgets\n",
        "\n",
        ").servable()"
      ]
    },
    {
      "cell_type": "code",
      "execution_count": null,
      "id": "e7943a87-b078-46c2-aaaf-051826e20306",
      "metadata": {
        "id": "e7943a87-b078-46c2-aaaf-051826e20306"
      },
      "outputs": [],
      "source": []
    },
    {
      "cell_type": "code",
      "execution_count": null,
      "id": "e2bfdb22-ccdb-4da7-a435-fc39d1ab1070",
      "metadata": {
        "id": "e2bfdb22-ccdb-4da7-a435-fc39d1ab1070"
      },
      "outputs": [],
      "source": []
    }
  ],
  "metadata": {
    "colab": {
      "provenance": []
    },
    "kernelspec": {
      "display_name": "Python 3",
      "language": "python",
      "name": "python3"
    },
    "language_info": {
      "codemirror_mode": {
        "name": "ipython",
        "version": 3
      },
      "file_extension": ".py",
      "mimetype": "text/x-python",
      "name": "python",
      "nbconvert_exporter": "python",
      "pygments_lexer": "ipython3",
      "version": "3.9.6 (default, May  7 2023, 23:32:44) \n[Clang 14.0.3 (clang-1403.0.22.14.1)]"
    },
    "vscode": {
      "interpreter": {
        "hash": "31f2aee4e71d21fbe5cf8b01ff0e069b9275f58929596ceb00d14d90e3e16cd6"
      }
    }
  },
  "nbformat": 4,
  "nbformat_minor": 5
}
